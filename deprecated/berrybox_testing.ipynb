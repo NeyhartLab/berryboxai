{
 "cells": [
  {
   "cell_type": "markdown",
   "metadata": {
    "id": "lOpcUoZDfTCO"
   },
   "source": [
    "# BerryBox Berry Segmentation\n",
    "\n",
    "## Run inferencing using a trained YOLOv8 model\n",
    "\n",
    "This notebook is meant to be run on a Windows PC using a CPU"
   ]
  },
  {
   "cell_type": "code",
   "execution_count": 2,
   "metadata": {},
   "outputs": [],
   "source": [
    "import paramiko\n",
    "import time\n",
    "from scp import SCPClient\n",
    "import pandas as pd\n",
    "from datetime import datetime\n",
    "from ultralytics import YOLO\n",
    "import cv2\n",
    "\n"
   ]
  },
  {
   "cell_type": "code",
   "execution_count": 3,
   "metadata": {},
   "outputs": [],
   "source": [
    "def create_ssh_client(hostname, username, password):\n",
    "    ssh = paramiko.SSHClient()\n",
    "    ssh.set_missing_host_key_policy(paramiko.AutoAddPolicy())\n",
    "    ssh.connect(hostname, username=username, password=password)\n",
    "    return ssh\n",
    "\n",
    "# A function that checks the nikon camera for connection and sets configurations\n",
    "def setup_nikon_camera(ssh, camera: str = \"Nikon DSC D7500\", sleeps = 2):\n",
    "    # First check that the Emlid device is connected\n",
    "    print(\"Checking Nikon Camera connection...\")\n",
    "    \n",
    "    stdin, stdout, stderr = ssh.exec_command(\"gphoto2 --auto-detect\")\n",
    "    det = stdout.read().decode(\"utf-8\")\n",
    "    if not camera in str(det):\n",
    "        raise RuntimeError(camera + \" is not connected!\")\n",
    "    \n",
    "    # Kill gphoto processes\n",
    "    ssh.exec_command(\"pkill -f gphoto2\")\n",
    "    \n",
    "    # Set configurations\n",
    "    command = \"gphoto2 --set-config iso=100\"\n",
    "    ssh.exec_command(command)\n",
    "    time.sleep(sleeps) # These must be here \n",
    "    command = \"gphoto2 --set-config whitebalance=7\"\n",
    "    ssh.exec_command(command)\n",
    "    time.sleep(sleeps)\n",
    "    command = \"gphoto2 --set-config /main/capturesettings/f-number=7.1\"\n",
    "    ssh.exec_command(command)\n",
    "    time.sleep(sleeps)\n",
    "    command = \"gphoto2 --set-config /main/capturesettings/shutterspeed=25\"\n",
    "    ssh.exec_command(command)\n",
    "\n",
    "    print(camera + \" is connected and configured!\")\n",
    "\n",
    "\n",
    "\n",
    "def transfer_image(ssh, remote_path, local_path):\n",
    "    scp = SCPClient(ssh.get_transport())\n",
    "    scp.get(remote_path, local_path)\n",
    "    scp.close()\n",
    "\n"
   ]
  },
  {
   "cell_type": "code",
   "execution_count": 8,
   "metadata": {},
   "outputs": [
    {
     "name": "stdout",
     "output_type": "stream",
     "text": [
      "Count not connect to pi\n"
     ]
    }
   ],
   "source": [
    "hostname = \"169.254.111.10\"\n",
    "username = \"cranpi2\"\n",
    "password = \"usdacran1\"\n",
    "try:\n",
    "    ssh = create_ssh_client(hostname, username, password)\n",
    "except:\n",
    "    print(\"Could not connect to pi\")"
   ]
  },
  {
   "cell_type": "code",
   "execution_count": 5,
   "metadata": {},
   "outputs": [
    {
     "data": {
      "text/plain": [
       "<paramiko.client.SSHClient at 0x1dcb6af4c10>"
      ]
     },
     "execution_count": 5,
     "metadata": {},
     "output_type": "execute_result"
    }
   ],
   "source": [
    "ssh."
   ]
  },
  {
   "cell_type": "code",
   "execution_count": 68,
   "metadata": {},
   "outputs": [
    {
     "name": "stdout",
     "output_type": "stream",
     "text": [
      "Checking Nikon Camera connection...\n",
      "Nikon DSC D7500 is connected and configured!\n"
     ]
    }
   ],
   "source": [
    "setup_nikon_camera(ssh = ssh)"
   ]
  },
  {
   "cell_type": "code",
   "execution_count": 69,
   "metadata": {},
   "outputs": [],
   "source": [
    "remote_image_path = \"/home/cranpi2/berrybox/captured_image.jpg\"\n",
    "trigger_command = f\"gphoto2 --capture-image-and-download --filename {remote_image_path} --force-overwrite\"\n",
    "ssh.exec_command(command=trigger_command)\n",
    "time.sleep(3)"
   ]
  },
  {
   "cell_type": "code",
   "execution_count": 73,
   "metadata": {},
   "outputs": [],
   "source": [
    "# 4. Transfer the image from Raspberry Pi to local machine\n",
    "# 2. Capture barcode and wait for Enter\n",
    "barcode = input(\"Scan the barcode (or type 'exit' to quit): \")\n",
    "\n",
    "input(\"Press Enter to capture the image...\")\n",
    "\n",
    "local_image_path = f\"./captured_image_{barcode}_{datetime.now().strftime('%Y%m%d%H%M%S')}.jpg\"\n",
    "transfer_image(ssh, remote_image_path, local_image_path)"
   ]
  },
  {
   "cell_type": "code",
   "execution_count": 45,
   "metadata": {},
   "outputs": [],
   "source": [
    "ssh.close()"
   ]
  },
  {
   "cell_type": "code",
   "execution_count": null,
   "metadata": {},
   "outputs": [],
   "source": []
  }
 ],
 "metadata": {
  "accelerator": "GPU",
  "colab": {
   "gpuType": "T4",
   "provenance": []
  },
  "kernelspec": {
   "display_name": "Python 3",
   "language": "python",
   "name": "python3"
  },
  "language_info": {
   "codemirror_mode": {
    "name": "ipython",
    "version": 3
   },
   "file_extension": ".py",
   "mimetype": "text/x-python",
   "name": "python",
   "nbconvert_exporter": "python",
   "pygments_lexer": "ipython3",
   "version": "3.9.19"
  }
 },
 "nbformat": 4,
 "nbformat_minor": 1
}
