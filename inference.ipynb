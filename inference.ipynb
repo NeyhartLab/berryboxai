{
 "cells": [
  {
   "cell_type": "markdown",
   "metadata": {
    "id": "lOpcUoZDfTCO"
   },
   "source": [
    "# BerryBox Berry Segmentation\n",
    "\n",
    "## Run inferencing using a trained YOLOv8 model\n",
    "\n",
    "This notebook is meant to be run on a Windows PC using a CPU"
   ]
  },
  {
   "cell_type": "markdown",
   "metadata": {},
   "source": [
    "0. Install depedencies"
   ]
  },
  {
   "cell_type": "code",
   "execution_count": 1,
   "metadata": {
    "id": "EHUelLBQfTCR"
   },
   "outputs": [
    {
     "name": "stderr",
     "output_type": "stream",
     "text": [
      "Ultralytics YOLOv8.0.186  Python-3.9.18 torch-2.2.1+cpu CPU (Intel Core(TM) i7-10810U 1.10GHz)\n",
      "Setup complete  (12 CPUs, 31.6 GB RAM, 483.3/951.3 GB disk)\n"
     ]
    }
   ],
   "source": [
    "# Install dependencies\n",
    "%pip install -r requirements.txt\n",
    "\n",
    "# Open ultralytics\n",
    "import ultralytics\n",
    "ultralytics.checks()\n",
    "\n",
    "# Set project directory and change directory\n",
    "import os\n",
    "proj_dir = os.getcwd()"
   ]
  },
  {
   "cell_type": "markdown",
   "metadata": {},
   "source": [
    "1. Import a YOLO model and export it using OpenVINO"
   ]
  },
  {
   "cell_type": "code",
   "execution_count": 2,
   "metadata": {},
   "outputs": [
    {
     "name": "stderr",
     "output_type": "stream",
     "text": [
      "Ultralytics YOLOv8.0.186  Python-3.9.18 torch-2.2.1+cpu CPU (Intel Core(TM) i7-10810U 1.10GHz)\n",
      "YOLOv8n-seg summary (fused): 195 layers, 3258844 parameters, 0 gradients\n",
      "\n",
      "\u001b[34m\u001b[1mPyTorch:\u001b[0m starting from 'c:\\Users\\jeffrey.neyhart\\OneDrive - USDA\\Documents\\CranberryLab\\Breeding\\2021\\Imaging\\BerryBoxImaging\\models\\berrybox_inst_seg_nano_best_20240318.pt' with input shape (1, 3, 1344, 2016) BCHW and output shape(s) ((1, 40, 55566), (1, 32, 336, 504)) (7.0 MB)\n",
      "\n",
      "\u001b[34m\u001b[1mONNX:\u001b[0m starting export with onnx 1.15.0 opset 17...\n",
      "\u001b[34m\u001b[1mONNX:\u001b[0m export success  26.2s, saved as 'c:\\Users\\jeffrey.neyhart\\OneDrive - USDA\\Documents\\CranberryLab\\Breeding\\2021\\Imaging\\BerryBoxImaging\\models\\berrybox_inst_seg_nano_best_20240318.onnx' (13.5 MB)\n",
      "\n",
      "\u001b[34m\u001b[1mOpenVINO:\u001b[0m starting export with openvino 2024.0.0-14509-34caeefd078-releases/2024/0...\n",
      "WARNING:root:Failed to send event with the following error: <urlopen error TLS/SSL connection has been closed (EOF) (_ssl.c:1129)>\n",
      "\u001b[34m\u001b[1mOpenVINO:\u001b[0m export success  249.3s, saved as 'c:\\Users\\jeffrey.neyhart\\OneDrive - USDA\\Documents\\CranberryLab\\Breeding\\2021\\Imaging\\BerryBoxImaging\\models\\berrybox_inst_seg_nano_best_20240318_openvino_model\\' (6.9 MB)\n",
      "\n",
      "Export complete (326.3s)\n",
      "Results saved to \u001b[1mC:\\Users\\jeffrey.neyhart\\OneDrive - USDA\\Documents\\CranberryLab\\Breeding\\2021\\Imaging\\BerryBoxImaging\\models\u001b[0m\n",
      "Predict:         yolo predict task=segment model=c:\\Users\\jeffrey.neyhart\\OneDrive - USDA\\Documents\\CranberryLab\\Breeding\\2021\\Imaging\\BerryBoxImaging\\models\\berrybox_inst_seg_nano_best_20240318_openvino_model imgsz=1344,2016 half \n",
      "Validate:        yolo val task=segment model=c:\\Users\\jeffrey.neyhart\\OneDrive - USDA\\Documents\\CranberryLab\\Breeding\\2021\\Imaging\\BerryBoxImaging\\models\\berrybox_inst_seg_nano_best_20240318_openvino_model imgsz=1344,2016 data=BerryBox_InstSeg_Datasets/BerryBox_FruitRot_InstanceSeg-10_shuffled/data.yaml half WARNING  non-PyTorch val requires square images, 'imgsz=[1344, 2016]' will not work. Use export 'imgsz=2016' if val is required.\n",
      "Visualize:       https://netron.app\n"
     ]
    }
   ],
   "source": [
    "# Set the path to the model\n",
    "# model_path = os.path.join(proj_dir, \"models/berrybox_best_20240316.pt\")\n",
    "model_path = os.path.join(proj_dir, \"models/berrybox_inst_seg_nano_best_20240318.pt\")\n",
    "\n",
    "# Attempt to find the openvino version of the model;\n",
    "# If it does not exist, export the model\n",
    "if not os.path.exists(model_path.replace(\".pt\", \"_openvino_model\")):\n",
    "\n",
    "    # Load the model with YOLO\n",
    "    from ultralytics import YOLO\n",
    "    model = YOLO(model_path)\n",
    "\n",
    "    # Export the model using openVINO\n",
    "    # model.export(format = \"openvino\", imgsz = 2048, half = True)\n",
    "    model.export(format = \"openvino\", imgsz = (1344, 2016), half = True)"
   ]
  },
  {
   "cell_type": "markdown",
   "metadata": {
    "id": "auxoSZwFfTCS"
   },
   "source": [
    "2. Change Working Directory (Choose)"
   ]
  },
  {
   "cell_type": "code",
   "execution_count": 3,
   "metadata": {},
   "outputs": [
    {
     "name": "stdout",
     "output_type": "stream",
     "text": [
      " Volume in drive C is OS\n",
      " Volume Serial Number is 5E84-0237\n",
      "\n",
      " Directory of c:\\Users\\jeffrey.neyhart\\OneDrive - USDA\\Documents\\CranberryLab\\Breeding\\2021\\Imaging\\BerryBoxImaging\n",
      "\n",
      "03/17/2024  07:01 PM    <DIR>          .\n",
      "03/17/2024  07:01 PM    <DIR>          ..\n",
      "03/17/2024  03:42 PM    <DIR>          .ipynb_checkpoints\n",
      "03/17/2024  04:58 PM    <DIR>          __pycache__\n",
      "12/29/2022  11:40 AM             2,696 03_BerryBox_2021ImageAnalysis_DataCleanup.R\n",
      "03/17/2024  10:55 PM            61,433 berrybox_yolov8_inference.ipynb\n",
      "07/24/2023  04:44 PM    <DIR>          BerrySizeValidationImages\n",
      "01/01/1980  12:00 AM            13,618 functions.py\n",
      "03/17/2024  06:19 PM    <DIR>          images\n",
      "11/25/2022  01:01 PM    <DIR>          lightbox\n",
      "03/18/2024  08:58 PM    <DIR>          models\n",
      "03/17/2024  05:56 PM    <DIR>          raw_images\n",
      "11/22/2022  10:27 AM               464 REAMDE.txt\n",
      "03/17/2024  04:41 PM                79 requirements.txt\n",
      "03/17/2024  05:33 PM    <DIR>          test_images\n",
      "01/04/2023  09:18 AM    <DIR>          v1_output\n",
      "               5 File(s)         78,290 bytes\n",
      "              11 Dir(s)  502,430,089,216 bytes free\n"
     ]
    }
   ],
   "source": [
    "# Set project directory\n",
    "import os\n",
    "proj_dir = os.getcwd()\n",
    "\n",
    "%ls"
   ]
  },
  {
   "cell_type": "markdown",
   "metadata": {
    "id": "ouQnM_MufTCT"
   },
   "source": [
    "3. Import dependecies, set parameters\n",
    "Note: Make sure functions.py is in the current working directory"
   ]
  },
  {
   "cell_type": "code",
   "execution_count": 5,
   "metadata": {
    "id": "e7UIPkIHfTCT"
   },
   "outputs": [
    {
     "name": "stdout",
     "output_type": "stream",
     "text": [
      "Using device: cpu\n"
     ]
    }
   ],
   "source": [
    "from functions import * # load all functions\n",
    "from ultralytics import YOLO\n",
    "import os\n",
    "import torch\n",
    "import gc\n",
    "import shutil\n",
    "\n",
    "gc.collect()   # collect garbage\n",
    "\n",
    "device = '0' if torch.cuda.is_available() else 'cpu'\n",
    "print(f'Using device: {device}')\n",
    "\n",
    "\n",
    "\"\"\"\n",
    "------------------------------------------------------------------------------------\n",
    "Set Directories\n",
    "------------------------------------------------------------------------------------\n",
    "\"\"\"\n",
    "model_dir = 'models/berrybox_best_20240316_openvino_model' # path to the model\n",
    "image_dir = 'images' # path to the image folder\n",
    "save_dir = 'output' # path to save the results\n",
    "\n",
    "shutil.rmtree(save_dir, ignore_errors=True)\n",
    "\n",
    "\"\"\"\n",
    "------------------------------------------------------------------------------------\n",
    "Set Model Parameters (you can change these parameters to suit your needs)\n",
    "------------------------------------------------------------------------------------\n",
    "\"\"\"\n",
    "model_params = {\n",
    "    'project': save_dir, # project name\n",
    "    'name': '2021_BerryBox', # run name\n",
    "    'save': False, # save image results\n",
    "    'show_labels': True,   # hide labels\n",
    "    'show_conf': True, # hide confidences\n",
    "    'save_crop': False, # save cropped prediction boxes\n",
    "    'line_width': 3, # bounding box line width\n",
    "    'conf': 0.70, # confidence threshold\n",
    "    'iou': 0.75, # NMS IoU threshold\n",
    "    # 'imgsz': 2048,\n",
    "    'imgsz': (1344, 2016),\n",
    "    # 'imgsz': (640, 960),\n",
    "    # 'exist_ok': True, # if True, it overwrites current 'name' saving folder\n",
    "    'half': True, # use FP16 half-precision inference True/False\n",
    "    'cache': False, # use cache images for faster inference\n",
    "    'retina_masks': False, #use high resolution seg mask\n",
    "    'device': device # cuda device, i.e. 0 or 0,1,2,3 or cpu\n",
    "}\n"
   ]
  },
  {
   "cell_type": "markdown",
   "metadata": {
    "id": "76h-1YCtfTCU"
   },
   "source": [
    "4. Run Inference"
   ]
  },
  {
   "cell_type": "code",
   "execution_count": 6,
   "metadata": {
    "id": "z_yZ_9j9fTCU"
   },
   "outputs": [
    {
     "name": "stdout",
     "output_type": "stream",
     "text": [
      "1. Running inference...\n"
     ]
    },
    {
     "name": "stderr",
     "output_type": "stream",
     "text": [
      "Loading models\\berrybox_best_20240316_openvino_model for OpenVINO inference...\n",
      "\n",
      "WARNING  NMS time limit 0.550s exceeded\n",
      "image 1/7 c:\\Users\\jeffrey.neyhart\\OneDrive - USDA\\Documents\\CranberryLab\\Breeding\\2021\\Imaging\\BerryBoxImaging\\test_images\\DSC_0287.JPG: 1344x2016 1 ColorCard, 33 berrys, 1 info, 40642.3ms\n",
      "image 2/7 c:\\Users\\jeffrey.neyhart\\OneDrive - USDA\\Documents\\CranberryLab\\Breeding\\2021\\Imaging\\BerryBoxImaging\\test_images\\DSC_0288.JPG: 1344x2016 1 ColorCard, 34 berrys, 1 info, 39485.2ms\n"
     ]
    }
   ],
   "source": [
    "print('1. Running inference...')\n",
    "model = YOLO(model_dir, task = \"segment\")\n",
    "results = model.predict(source = image_dir, **model_params)"
   ]
  },
  {
   "cell_type": "markdown",
   "metadata": {
    "id": "ja7clOEJfTCU"
   },
   "source": [
    "5. Unscramble the predicted results/ Assemble features from detections, Save results"
   ]
  },
  {
   "cell_type": "code",
   "execution_count": null,
   "metadata": {
    "id": "ApnaR2fgfTCU"
   },
   "outputs": [],
   "source": [
    "print('2. Extracting features from results...')\n",
    "DF = pd.DataFrame()\n",
    "for i, result in enumerate(results):\n",
    "\n",
    "    result = result.cpu()\n",
    "    img_name = os.path.basename(result.path)\n",
    "\n",
    "    result, patch_size = color_correction(result)\n",
    "    QR_info = read_QR_code(result)\n",
    "    df = get_all_features_parallel(result, name= 'berry')\n",
    "    w,_ = df.shape\n",
    "    img_name = [img_name]*w\n",
    "    QR_info = [QR_info]*w\n",
    "    patch_size = [np.mean(patch_size)]*w\n",
    "    indeces = list(range(w))\n",
    "\n",
    "    df_fore = pd.DataFrame({'Image_name': img_name,\n",
    "                            'ID': indeces,\n",
    "                            'QR_info': QR_info,\n",
    "                            'Patch_size': patch_size})\n",
    "\n",
    "    df = pd.concat([df_fore, df], axis=1)\n",
    "    DF = pd.concat([DF, df], axis=0, ignore_index=True)\n",
    "\n",
    "    img_save_folder = os.path.join(save_dir, 'Predictions')\n",
    "    if not os.path.exists(img_save_folder):\n",
    "        os.makedirs(img_save_folder)\n",
    "\n",
    "    save_ROI_parallel(result,\n",
    "                get_ids(result, 'berry'),\n",
    "                os.path.join(img_save_folder, img_name[0]))\n",
    "\n",
    "    print(f\"\\nImage {i+1} of {len(results)} processed.\" )\n",
    "\n",
    "DF.to_csv(os.path.join(save_dir, 'Features.csv'), index=False)\n",
    "\n",
    "print('Done.')\n",
    "\n",
    "gc.collect()"
   ]
  },
  {
   "cell_type": "code",
   "execution_count": 19,
   "metadata": {},
   "outputs": [],
   "source": [
    "# # Rotate all images in a directory\n",
    "# from PIL import Image\n",
    "# images = os.listdir(\"raw_images/\")\n",
    "# for img_file in images:\n",
    "#     img = Image.open(\"raw_images/\" + img_file)\n",
    "#     sz = img.size\n",
    "#     if (sz != (5568, 3712)):\n",
    "#         img = img.resize((5568, 3712))\n",
    "\n",
    "#     img.save(\"images/\" + img_file)\n",
    "\n"
   ]
  }
 ],
 "metadata": {
  "accelerator": "GPU",
  "colab": {
   "gpuType": "T4",
   "provenance": []
  },
  "kernelspec": {
   "display_name": "Python 3",
   "language": "python",
   "name": "python3"
  },
  "language_info": {
   "codemirror_mode": {
    "name": "ipython",
    "version": 3
   },
   "file_extension": ".py",
   "mimetype": "text/x-python",
   "name": "python",
   "nbconvert_exporter": "python",
   "pygments_lexer": "ipython3",
   "version": "3.9.18"
  }
 },
 "nbformat": 4,
 "nbformat_minor": 1
}
