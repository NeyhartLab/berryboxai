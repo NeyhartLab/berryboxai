{
 "cells": [
  {
   "cell_type": "markdown",
   "metadata": {
    "id": "lOpcUoZDfTCO"
   },
   "source": [
    "# BerryBox Berry Segmentation\n",
    "\n",
    "## Run inferencing using a trained YOLOv8 model\n",
    "\n",
    "This notebook is meant to be run on a Windows PC using a CPU"
   ]
  },
  {
   "cell_type": "code",
   "execution_count": 1,
   "metadata": {},
   "outputs": [
    {
     "name": "stdout",
     "output_type": "stream",
     "text": [
      "Ultralytics YOLOv8.1.0 🚀 Python-3.9.19 torch-2.2.1+cpu CPU (12th Gen Intel Core(TM) i5-12500)\n",
      "Setup complete ✅ (12 CPUs, 15.7 GB RAM, 185.6/943.7 GB disk)\n",
      " Volume in drive C is Windows\n",
      " Volume Serial Number is 843E-24D5\n",
      "\n",
      " Directory of c:\\Users\\Jeffrey.Neyhart\\Documents\\Breeding\\2023\\Imaging\\BerryBoxImaging\\div_2023_ghs_berry\n",
      "\n",
      "03/25/2024  02:46 PM    <DIR>          .\n",
      "03/25/2024  02:46 PM    <DIR>          ..\n",
      "09/28/2023  04:15 PM            21,178 div_2023_ghs_berryWeights.xlsx\n",
      "01/01/1980  12:00 AM            13,618 functions.py\n",
      "03/25/2024  02:45 PM    <DIR>          images\n",
      "03/25/2024  02:24 PM           342,816 inference.ipynb\n",
      "03/25/2024  02:44 PM    <DIR>          potential_duplicates\n",
      "               3 File(s)        377,612 bytes\n",
      "               4 Dir(s)  813,975,166,976 bytes free\n"
     ]
    }
   ],
   "source": [
    "# Open ultralytics\n",
    "import ultralytics\n",
    "ultralytics.checks()\n",
    "\n",
    "# Set project directory and change directory\n",
    "import os\n",
    "import shutil\n",
    "proj_dir = os.getcwd()\n",
    "proj_dir\n",
    "%ls\n",
    "\n",
    "# Model inference size\n",
    "image_size = (1856, 2784)"
   ]
  },
  {
   "cell_type": "markdown",
   "metadata": {},
   "source": [
    "1. Import a YOLO model and export it using OpenVINO"
   ]
  },
  {
   "cell_type": "code",
   "execution_count": 2,
   "metadata": {},
   "outputs": [],
   "source": [
    "# Set the path to the model\n",
    "# model_path = os.path.join(proj_dir, \"models/berrybox_best_20240316.pt\")\n",
    "model_path = \"C:/Users/jeffrey.neyhart/Documents/Phenomics/berryboxai/models/berrybox_inst_seg_nano_best_20240324.pt\"\n",
    "# OpenVino model path\n",
    "ov_model_path = model_path.replace(\".pt\", \"_openvino_model\")\n",
    "\n",
    "# Attempt to find the openvino version of the model;\n",
    "# If it does not exist, export the model\n",
    "if not os.path.exists(ov_model_path):\n",
    "\n",
    "    os.chdir(os.path.dirname(model_path))\n",
    "\n",
    "    # Copy the model to the OpenVino location \n",
    "    model_path_local = model_path\n",
    "\n",
    "    # Load the model with YOLO\n",
    "    from ultralytics import YOLO\n",
    "    model = YOLO(model_path_local)\n",
    "\n",
    "    # Export the model using openVINO\n",
    "    model.export(format = \"openvino\", imgsz = image_size, half = True)\n",
    "\n",
    "    os.chdir(proj_dir)"
   ]
  },
  {
   "cell_type": "markdown",
   "metadata": {
    "id": "ouQnM_MufTCT"
   },
   "source": [
    "2. Import dependecies, set parameters\n",
    "Note: Make sure functions.py is in the current working directory"
   ]
  },
  {
   "cell_type": "code",
   "execution_count": 3,
   "metadata": {
    "id": "e7UIPkIHfTCT"
   },
   "outputs": [
    {
     "name": "stderr",
     "output_type": "stream",
     "text": [
      "Neither CUDA nor MPS are available - defaulting to CPU. Note: This module is much faster with a GPU.\n"
     ]
    },
    {
     "name": "stdout",
     "output_type": "stream",
     "text": [
      "Using device: cpu\n"
     ]
    }
   ],
   "source": [
    "from functions import * # load all functions\n",
    "from ultralytics import YOLO\n",
    "import os\n",
    "import torch\n",
    "import gc\n",
    "import shutil\n",
    "from PIL import Image\n",
    "\n",
    "gc.collect()   # collect garbage\n",
    "\n",
    "device = '0' if torch.cuda.is_available() else 'cpu'\n",
    "print(f'Using device: {device}')\n",
    "\n",
    "\n",
    "\"\"\"\n",
    "------------------------------------------------------------------------------------\n",
    "Set Directories\n",
    "------------------------------------------------------------------------------------\n",
    "\"\"\"\n",
    "model_dir = ov_model_path # path to the model\n",
    "image_dir = 'images' # path to the image folder\n",
    "save_dir = 'output' # path to save the results\n",
    "\n",
    "# shutil.rmtree(save_dir, ignore_errors=True)\n",
    "\n",
    "\"\"\"\n",
    "------------------------------------------------------------------------------------\n",
    "Set Model Parameters (you can change these parameters to suit your needs)\n",
    "------------------------------------------------------------------------------------\n",
    "\"\"\"\n",
    "model_params = {\n",
    "    'project': save_dir, # project name\n",
    "    'name': \"berrybox_\" + os.path.basename(proj_dir), # run name\n",
    "    'save': False, # save image results\n",
    "    'show_labels': True,   # hide labels\n",
    "    'show_conf': True, # hide confidences\n",
    "    'save_crop': False, # save cropped prediction boxes\n",
    "    'line_width': 3, # bounding box line width\n",
    "    'conf': 0.70, # confidence threshold\n",
    "    'iou': 0.75, # NMS IoU threshold\n",
    "    'imgsz': image_size,\n",
    "    'exist_ok': True, # if True, it overwrites current 'name' saving folder\n",
    "    'half': True, # use FP16 half-precision inference True/False\n",
    "    'cache': False, # use cache images for faster inference\n",
    "    'retina_masks': False, #use high resolution seg mask\n",
    "    'device': device, # cuda device, i.e. 0 or 0,1,2,3 or cpu\n",
    "    'verbose': True\n",
    "}\n",
    "\n",
    "# Load the model\n",
    "model = YOLO(model_dir, task = \"segment\")\n"
   ]
  },
  {
   "cell_type": "markdown",
   "metadata": {
    "id": "76h-1YCtfTCU"
   },
   "source": [
    "3. Run Inference"
   ]
  },
  {
   "cell_type": "code",
   "execution_count": 4,
   "metadata": {},
   "outputs": [
    {
     "name": "stdout",
     "output_type": "stream",
     "text": [
      "Running inference and extracting features for 69 images...\n",
      "\n",
      "Loading C:\\Users\\jeffrey.neyhart\\Documents\\Phenomics\\berryboxai\\models\\berrybox_inst_seg_nano_best_20240324_openvino_model for OpenVINO inference...\n",
      "\n",
      "0: 1856x2784 1 ColorCard, 10 berrys, 1 info, 435.2ms\n",
      "Speed: 35.3ms preprocess, 435.2ms inference, 133.6ms postprocess per image at shape (1, 3, 1856, 2784)\n",
      "\n",
      "Color correcting the image...\n",
      "\n",
      "Initial mean DeltaE:  11.0947318605\n",
      "Number of components:  10\n",
      "\n",
      "Color correction complete.\n",
      "\n",
      "\n",
      "Reading QR code...\n",
      "\n",
      "\n",
      "QR code reading complete.\n",
      "\n"
     ]
    },
    {
     "name": "stderr",
     "output_type": "stream",
     "text": [
      "Extracting features: 100%|██████████| 10/10 [00:00<00:00, 26.31it/s]\n",
      "Extracting features: 0it [00:00, ?it/s]\n"
     ]
    },
    {
     "name": "stdout",
     "output_type": "stream",
     "text": [
      "\n",
      "Image 1 of 69 processed.\n",
      "\n",
      "0: 1856x2784 1 ColorCard, 10 berrys, 1 info, 397.1ms\n",
      "Speed: 18.5ms preprocess, 397.1ms inference, 113.1ms postprocess per image at shape (1, 3, 1856, 2784)\n",
      "\n",
      "Color correcting the image...\n",
      "\n",
      "Initial mean DeltaE:  10.4792941471\n",
      "Number of components:  10\n",
      "\n",
      "Color correction complete.\n",
      "\n",
      "\n",
      "Reading QR code...\n",
      "\n",
      "\n",
      "QR code reading complete.\n",
      "\n"
     ]
    },
    {
     "name": "stderr",
     "output_type": "stream",
     "text": [
      "Extracting features: 100%|██████████| 10/10 [00:00<00:00, 31.46it/s]\n",
      "Extracting features: 0it [00:00, ?it/s]\n"
     ]
    },
    {
     "name": "stdout",
     "output_type": "stream",
     "text": [
      "\n",
      "Image 2 of 69 processed.\n",
      "\n",
      "0: 1856x2784 1 ColorCard, 8 berrys, 1 info, 310.1ms\n",
      "Speed: 38.8ms preprocess, 310.1ms inference, 98.9ms postprocess per image at shape (1, 3, 1856, 2784)\n",
      "\n",
      "Color correcting the image...\n",
      "\n",
      "Initial mean DeltaE:  13.3637002737\n",
      "Number of components:  10\n",
      "\n",
      "Color correction complete.\n",
      "\n",
      "\n",
      "Reading QR code...\n",
      "\n",
      "\n",
      "QR code reading complete.\n",
      "\n"
     ]
    },
    {
     "name": "stderr",
     "output_type": "stream",
     "text": [
      "Extracting features: 100%|██████████| 8/8 [00:00<00:00, 28.15it/s]\n",
      "Extracting features: 0it [00:00, ?it/s]\n"
     ]
    },
    {
     "name": "stdout",
     "output_type": "stream",
     "text": [
      "\n",
      "Image 3 of 69 processed.\n",
      "\n",
      "0: 1856x2784 1 ColorCard, 10 berrys, 1 info, 299.6ms\n",
      "Speed: 18.1ms preprocess, 299.6ms inference, 102.5ms postprocess per image at shape (1, 3, 1856, 2784)\n",
      "\n",
      "Color correcting the image...\n",
      "\n",
      "Initial mean DeltaE:  10.7591085874\n",
      "Number of components:  10\n",
      "\n",
      "Color correction complete.\n",
      "\n",
      "\n",
      "Reading QR code...\n",
      "\n",
      "\n",
      "QR code reading complete.\n",
      "\n"
     ]
    },
    {
     "name": "stderr",
     "output_type": "stream",
     "text": [
      "Extracting features: 100%|██████████| 10/10 [00:00<00:00, 31.38it/s]\n",
      "Extracting features: 0it [00:00, ?it/s]\n"
     ]
    },
    {
     "name": "stdout",
     "output_type": "stream",
     "text": [
      "\n",
      "Image 4 of 69 processed.\n",
      "\n",
      "0: 1856x2784 1 ColorCard, 10 berrys, 1 info, 299.7ms\n",
      "Speed: 31.3ms preprocess, 299.7ms inference, 116.8ms postprocess per image at shape (1, 3, 1856, 2784)\n",
      "\n",
      "Color correcting the image...\n",
      "\n",
      "Initial mean DeltaE:  10.7581403627\n",
      "Number of components:  10\n",
      "\n",
      "Color correction complete.\n",
      "\n",
      "\n",
      "Reading QR code...\n",
      "\n",
      "\n",
      "QR code reading complete.\n",
      "\n"
     ]
    },
    {
     "name": "stderr",
     "output_type": "stream",
     "text": [
      "Extracting features: 100%|██████████| 10/10 [00:00<00:00, 29.99it/s]\n",
      "Extracting features: 0it [00:00, ?it/s]\n"
     ]
    },
    {
     "name": "stdout",
     "output_type": "stream",
     "text": [
      "\n",
      "Image 5 of 69 processed.\n",
      "\n",
      "0: 1856x2784 1 ColorCard, 10 berrys, 1 info, 287.1ms\n",
      "Speed: 29.6ms preprocess, 287.1ms inference, 117.9ms postprocess per image at shape (1, 3, 1856, 2784)\n",
      "\n",
      "Color correcting the image...\n",
      "\n",
      "Initial mean DeltaE:  10.5765489903\n",
      "Number of components:  10\n",
      "\n",
      "Color correction complete.\n",
      "\n",
      "\n",
      "Reading QR code...\n",
      "\n",
      "\n",
      "QR code reading complete.\n",
      "\n"
     ]
    },
    {
     "name": "stderr",
     "output_type": "stream",
     "text": [
      "Extracting features: 100%|██████████| 10/10 [00:00<00:00, 31.59it/s]\n",
      "Extracting features: 0it [00:00, ?it/s]\n"
     ]
    },
    {
     "name": "stdout",
     "output_type": "stream",
     "text": [
      "\n",
      "Image 6 of 69 processed.\n",
      "\n",
      "0: 1856x2784 1 ColorCard, 10 berrys, 279.3ms\n",
      "Speed: 37.4ms preprocess, 279.3ms inference, 116.7ms postprocess per image at shape (1, 3, 1856, 2784)\n",
      "\n",
      "Color correcting the image...\n",
      "\n",
      "Initial mean DeltaE:  13.0417650539\n",
      "Number of components:  10\n",
      "\n",
      "Color correction complete.\n",
      "\n",
      "No 'info' detected by the model.\n",
      "\n"
     ]
    },
    {
     "name": "stderr",
     "output_type": "stream",
     "text": [
      "Extracting features: 100%|██████████| 10/10 [00:00<00:00, 29.98it/s]\n",
      "Extracting features: 0it [00:00, ?it/s]\n"
     ]
    },
    {
     "name": "stdout",
     "output_type": "stream",
     "text": [
      "\n",
      "Image 7 of 69 processed.\n",
      "\n",
      "0: 1856x2784 1 ColorCard, 10 berrys, 1 info, 299.9ms\n",
      "Speed: 33.5ms preprocess, 299.9ms inference, 117.2ms postprocess per image at shape (1, 3, 1856, 2784)\n",
      "\n",
      "Color correcting the image...\n",
      "\n",
      "Initial mean DeltaE:  11.6745325767\n",
      "Number of components:  10\n",
      "\n",
      "Color correction complete.\n",
      "\n",
      "\n",
      "Reading QR code...\n",
      "\n",
      "\n",
      "QR code reading complete.\n",
      "\n"
     ]
    },
    {
     "name": "stderr",
     "output_type": "stream",
     "text": [
      "Extracting features: 100%|██████████| 10/10 [00:00<00:00, 28.60it/s]\n",
      "Extracting features: 0it [00:00, ?it/s]\n"
     ]
    },
    {
     "name": "stdout",
     "output_type": "stream",
     "text": [
      "\n",
      "Image 8 of 69 processed.\n",
      "\n",
      "0: 1856x2784 1 ColorCard, 10 berrys, 1 info, 299.8ms\n",
      "Speed: 33.5ms preprocess, 299.8ms inference, 117.0ms postprocess per image at shape (1, 3, 1856, 2784)\n",
      "\n",
      "Color correcting the image...\n",
      "\n",
      "Initial mean DeltaE:  13.5931850566\n",
      "Number of components:  10\n",
      "\n",
      "Color correction complete.\n",
      "\n",
      "\n",
      "Reading QR code...\n",
      "\n",
      "\n",
      "QR code reading complete.\n",
      "\n"
     ]
    },
    {
     "name": "stderr",
     "output_type": "stream",
     "text": [
      "Extracting features: 100%|██████████| 10/10 [00:00<00:00, 31.58it/s]\n",
      "Extracting features: 0it [00:00, ?it/s]\n"
     ]
    },
    {
     "name": "stdout",
     "output_type": "stream",
     "text": [
      "\n",
      "Image 9 of 69 processed.\n",
      "\n",
      "0: 1856x2784 1 ColorCard, 7 berrys, 2 infos, 313.7ms\n",
      "Speed: 24.3ms preprocess, 313.7ms inference, 116.1ms postprocess per image at shape (1, 3, 1856, 2784)\n",
      "\n",
      "Color correcting the image...\n",
      "\n",
      "Initial mean DeltaE:  12.7334971187\n",
      "Number of components:  10\n",
      "\n",
      "Color correction complete.\n",
      "\n",
      "\n",
      "Reading QR code...\n",
      "\n",
      "\n",
      "QR code reading complete.\n",
      "\n"
     ]
    },
    {
     "name": "stderr",
     "output_type": "stream",
     "text": [
      "Extracting features: 100%|██████████| 7/7 [00:00<00:00, 28.38it/s]\n",
      "Extracting features: 0it [00:00, ?it/s]\n"
     ]
    },
    {
     "name": "stdout",
     "output_type": "stream",
     "text": [
      "\n",
      "Image 10 of 69 processed.\n",
      "\n",
      "0: 1856x2784 1 ColorCard, 10 berrys, 1 info, 300.9ms\n",
      "Speed: 33.3ms preprocess, 300.9ms inference, 107.6ms postprocess per image at shape (1, 3, 1856, 2784)\n",
      "\n",
      "Color correcting the image...\n",
      "\n",
      "Initial mean DeltaE:  12.356981426\n",
      "Number of components:  10\n",
      "\n",
      "Color correction complete.\n",
      "\n",
      "\n",
      "Reading QR code...\n",
      "\n",
      "\n",
      "QR code reading complete.\n",
      "\n"
     ]
    },
    {
     "name": "stderr",
     "output_type": "stream",
     "text": [
      "Extracting features: 100%|██████████| 10/10 [00:00<00:00, 31.58it/s]\n",
      "Extracting features: 0it [00:00, ?it/s]\n"
     ]
    },
    {
     "name": "stdout",
     "output_type": "stream",
     "text": [
      "\n",
      "Image 11 of 69 processed.\n",
      "\n",
      "0: 1856x2784 1 ColorCard, 6 berrys, 1 info, 302.1ms\n",
      "Speed: 16.9ms preprocess, 302.1ms inference, 64.6ms postprocess per image at shape (1, 3, 1856, 2784)\n",
      "\n",
      "Color correcting the image...\n",
      "\n",
      "Initial mean DeltaE:  16.0177132674\n",
      "Number of components:  10\n",
      "\n",
      "Color correction complete.\n",
      "\n",
      "\n",
      "Reading QR code...\n",
      "\n",
      "\n",
      "QR code reading complete.\n",
      "\n"
     ]
    },
    {
     "name": "stderr",
     "output_type": "stream",
     "text": [
      "Extracting features: 100%|██████████| 6/6 [00:00<00:00, 27.70it/s]\n",
      "Extracting features: 0it [00:00, ?it/s]\n"
     ]
    },
    {
     "name": "stdout",
     "output_type": "stream",
     "text": [
      "\n",
      "Image 12 of 69 processed.\n",
      "\n",
      "0: 1856x2784 1 ColorCard, 10 berrys, 1 info, 300.1ms\n",
      "Speed: 14.1ms preprocess, 300.1ms inference, 121.9ms postprocess per image at shape (1, 3, 1856, 2784)\n",
      "\n",
      "Color correcting the image...\n",
      "\n",
      "Initial mean DeltaE:  13.6853410153\n",
      "Number of components:  10\n",
      "\n",
      "Color correction complete.\n",
      "\n",
      "\n",
      "Reading QR code...\n",
      "\n",
      "\n",
      "QR code reading complete.\n",
      "\n"
     ]
    },
    {
     "name": "stderr",
     "output_type": "stream",
     "text": [
      "Extracting features: 100%|██████████| 10/10 [00:00<00:00, 30.91it/s]\n",
      "Extracting features: 0it [00:00, ?it/s]\n"
     ]
    },
    {
     "name": "stdout",
     "output_type": "stream",
     "text": [
      "\n",
      "Image 13 of 69 processed.\n",
      "\n",
      "0: 1856x2784 1 ColorCard, 10 berrys, 1 info, 299.9ms\n",
      "Speed: 14.2ms preprocess, 299.9ms inference, 100.6ms postprocess per image at shape (1, 3, 1856, 2784)\n",
      "\n",
      "Color correcting the image...\n",
      "\n",
      "Initial mean DeltaE:  12.7393828251\n",
      "Number of components:  10\n",
      "\n",
      "Color correction complete.\n",
      "\n",
      "\n",
      "Reading QR code...\n",
      "\n",
      "\n",
      "QR code reading complete.\n",
      "\n"
     ]
    },
    {
     "name": "stderr",
     "output_type": "stream",
     "text": [
      "Extracting features: 100%|██████████| 10/10 [00:00<00:00, 32.87it/s]\n",
      "Extracting features: 0it [00:00, ?it/s]\n"
     ]
    },
    {
     "name": "stdout",
     "output_type": "stream",
     "text": [
      "\n",
      "Image 14 of 69 processed.\n",
      "\n",
      "0: 1856x2784 1 ColorCard, 10 berrys, 1 info, 316.6ms\n",
      "Speed: 33.2ms preprocess, 316.6ms inference, 117.3ms postprocess per image at shape (1, 3, 1856, 2784)\n",
      "\n",
      "Color correcting the image...\n",
      "\n",
      "Initial mean DeltaE:  12.6755330503\n",
      "Number of components:  10\n",
      "\n",
      "Color correction complete.\n",
      "\n",
      "\n",
      "Reading QR code...\n",
      "\n",
      "\n",
      "QR code reading complete.\n",
      "\n"
     ]
    },
    {
     "name": "stderr",
     "output_type": "stream",
     "text": [
      "Extracting features: 100%|██████████| 10/10 [00:00<00:00, 28.45it/s]\n",
      "Extracting features: 0it [00:00, ?it/s]\n"
     ]
    },
    {
     "name": "stdout",
     "output_type": "stream",
     "text": [
      "\n",
      "Image 15 of 69 processed.\n",
      "\n",
      "0: 1856x2784 1 ColorCard, 10 berrys, 1 info, 283.4ms\n",
      "Speed: 33.4ms preprocess, 283.4ms inference, 116.8ms postprocess per image at shape (1, 3, 1856, 2784)\n",
      "\n",
      "Color correcting the image...\n",
      "\n",
      "Initial mean DeltaE:  13.0024809196\n",
      "Number of components:  10\n",
      "\n",
      "Color correction complete.\n",
      "\n",
      "\n",
      "Reading QR code...\n",
      "\n",
      "\n",
      "QR code reading complete.\n",
      "\n"
     ]
    },
    {
     "name": "stderr",
     "output_type": "stream",
     "text": [
      "Extracting features: 100%|██████████| 10/10 [00:00<00:00, 33.34it/s]\n",
      "Extracting features: 0it [00:00, ?it/s]\n"
     ]
    },
    {
     "name": "stdout",
     "output_type": "stream",
     "text": [
      "\n",
      "Image 16 of 69 processed.\n",
      "\n",
      "0: 1856x2784 1 ColorCard, 10 berrys, 1 info, 305.8ms\n",
      "Speed: 33.5ms preprocess, 305.8ms inference, 110.8ms postprocess per image at shape (1, 3, 1856, 2784)\n",
      "\n",
      "Color correcting the image...\n",
      "\n",
      "Initial mean DeltaE:  11.048501427\n",
      "Number of components:  10\n",
      "\n",
      "Color correction complete.\n",
      "\n",
      "\n",
      "Reading QR code...\n",
      "\n",
      "\n",
      "QR code reading complete.\n",
      "\n"
     ]
    },
    {
     "name": "stderr",
     "output_type": "stream",
     "text": [
      "Extracting features: 100%|██████████| 10/10 [00:00<00:00, 28.57it/s]\n",
      "Extracting features: 0it [00:00, ?it/s]\n"
     ]
    },
    {
     "name": "stdout",
     "output_type": "stream",
     "text": [
      "\n",
      "Image 17 of 69 processed.\n",
      "\n",
      "0: 1856x2784 1 ColorCard, 10 berrys, 1 info, 300.1ms\n",
      "Speed: 33.3ms preprocess, 300.1ms inference, 132.5ms postprocess per image at shape (1, 3, 1856, 2784)\n",
      "\n",
      "Color correcting the image...\n",
      "\n",
      "Initial mean DeltaE:  10.1520319741\n",
      "Number of components:  10\n",
      "\n",
      "Color correction complete.\n",
      "\n",
      "\n",
      "Reading QR code...\n",
      "\n",
      "\n",
      "QR code reading complete.\n",
      "\n"
     ]
    },
    {
     "name": "stderr",
     "output_type": "stream",
     "text": [
      "Extracting features: 100%|██████████| 10/10 [00:00<00:00, 33.59it/s]\n",
      "Extracting features: 0it [00:00, ?it/s]\n"
     ]
    },
    {
     "name": "stdout",
     "output_type": "stream",
     "text": [
      "\n",
      "Image 18 of 69 processed.\n",
      "\n",
      "0: 1856x2784 1 ColorCard, 10 berrys, 1 info, 283.9ms\n",
      "Speed: 32.3ms preprocess, 283.9ms inference, 133.3ms postprocess per image at shape (1, 3, 1856, 2784)\n",
      "\n",
      "Color correcting the image...\n",
      "\n",
      "Initial mean DeltaE:  13.2581038379\n",
      "Number of components:  10\n",
      "\n",
      "Color correction complete.\n",
      "\n",
      "\n",
      "Reading QR code...\n",
      "\n",
      "\n",
      "QR code reading complete.\n",
      "\n"
     ]
    },
    {
     "name": "stderr",
     "output_type": "stream",
     "text": [
      "Extracting features: 100%|██████████| 10/10 [00:00<00:00, 31.52it/s]\n",
      "Extracting features: 0it [00:00, ?it/s]\n"
     ]
    },
    {
     "name": "stdout",
     "output_type": "stream",
     "text": [
      "\n",
      "Image 19 of 69 processed.\n",
      "\n",
      "0: 1856x2784 1 ColorCard, 10 berrys, 1 info, 305.2ms\n",
      "Speed: 15.3ms preprocess, 305.2ms inference, 127.7ms postprocess per image at shape (1, 3, 1856, 2784)\n",
      "\n",
      "Color correcting the image...\n",
      "\n",
      "Initial mean DeltaE:  11.1560405195\n",
      "Number of components:  10\n",
      "\n",
      "Color correction complete.\n",
      "\n",
      "\n",
      "Reading QR code...\n",
      "\n",
      "\n",
      "QR code reading complete.\n",
      "\n"
     ]
    },
    {
     "name": "stderr",
     "output_type": "stream",
     "text": [
      "Extracting features: 100%|██████████| 10/10 [00:00<00:00, 26.07it/s]\n",
      "Extracting features: 0it [00:00, ?it/s]\n"
     ]
    },
    {
     "name": "stdout",
     "output_type": "stream",
     "text": [
      "\n",
      "Image 20 of 69 processed.\n",
      "\n",
      "0: 1856x2784 1 ColorCard, 10 berrys, 1 info, 296.7ms\n",
      "Speed: 36.4ms preprocess, 296.7ms inference, 116.9ms postprocess per image at shape (1, 3, 1856, 2784)\n",
      "\n",
      "Color correcting the image...\n",
      "\n",
      "Initial mean DeltaE:  13.0204786837\n",
      "Number of components:  10\n",
      "\n",
      "Color correction complete.\n",
      "\n",
      "\n",
      "Reading QR code...\n",
      "\n",
      "\n",
      "QR code reading complete.\n",
      "\n"
     ]
    },
    {
     "name": "stderr",
     "output_type": "stream",
     "text": [
      "Extracting features: 100%|██████████| 10/10 [00:00<00:00, 30.00it/s]\n",
      "Extracting features: 0it [00:00, ?it/s]\n"
     ]
    },
    {
     "name": "stdout",
     "output_type": "stream",
     "text": [
      "\n",
      "Image 21 of 69 processed.\n",
      "\n",
      "0: 1856x2784 1 ColorCard, 10 berrys, 1 info, 302.7ms\n",
      "Speed: 33.5ms preprocess, 302.7ms inference, 120.3ms postprocess per image at shape (1, 3, 1856, 2784)\n",
      "\n",
      "Color correcting the image...\n",
      "\n",
      "Initial mean DeltaE:  10.9808061105\n",
      "Number of components:  10\n",
      "\n",
      "Color correction complete.\n",
      "\n",
      "\n",
      "Reading QR code...\n",
      "\n",
      "\n",
      "QR code reading complete.\n",
      "\n"
     ]
    },
    {
     "name": "stderr",
     "output_type": "stream",
     "text": [
      "Extracting features: 100%|██████████| 10/10 [00:00<00:00, 31.53it/s]\n",
      "Extracting features: 0it [00:00, ?it/s]\n"
     ]
    },
    {
     "name": "stdout",
     "output_type": "stream",
     "text": [
      "\n",
      "Image 22 of 69 processed.\n",
      "\n",
      "0: 1856x2784 1 ColorCard, 10 berrys, 1 info, 289.7ms\n",
      "Speed: 24.1ms preprocess, 289.7ms inference, 135.3ms postprocess per image at shape (1, 3, 1856, 2784)\n",
      "\n",
      "Color correcting the image...\n",
      "\n",
      "Initial mean DeltaE:  11.3564064558\n",
      "Number of components:  10\n",
      "\n",
      "Color correction complete.\n",
      "\n",
      "\n",
      "Reading QR code...\n",
      "\n",
      "\n",
      "QR code reading complete.\n",
      "\n"
     ]
    },
    {
     "name": "stderr",
     "output_type": "stream",
     "text": [
      "Extracting features: 100%|██████████| 10/10 [00:00<00:00, 31.27it/s]\n",
      "Extracting features: 0it [00:00, ?it/s]\n"
     ]
    },
    {
     "name": "stdout",
     "output_type": "stream",
     "text": [
      "\n",
      "Image 23 of 69 processed.\n",
      "\n",
      "0: 1856x2784 1 ColorCard, 10 berrys, 1 info, 301.2ms\n",
      "Speed: 18.2ms preprocess, 301.2ms inference, 132.3ms postprocess per image at shape (1, 3, 1856, 2784)\n",
      "\n",
      "Color correcting the image...\n",
      "\n",
      "Initial mean DeltaE:  14.0641619792\n",
      "Number of components:  10\n",
      "\n",
      "Color correction complete.\n",
      "\n",
      "\n",
      "Reading QR code...\n",
      "\n",
      "\n",
      "QR code reading complete.\n",
      "\n"
     ]
    },
    {
     "name": "stderr",
     "output_type": "stream",
     "text": [
      "Extracting features: 100%|██████████| 10/10 [00:00<00:00, 33.32it/s]\n",
      "Extracting features: 0it [00:00, ?it/s]\n"
     ]
    },
    {
     "name": "stdout",
     "output_type": "stream",
     "text": [
      "\n",
      "Image 24 of 69 processed.\n",
      "\n",
      "0: 1856x2784 1 ColorCard, 10 berrys, 309.1ms\n",
      "Speed: 30.6ms preprocess, 309.1ms inference, 103.9ms postprocess per image at shape (1, 3, 1856, 2784)\n",
      "\n",
      "Color correcting the image...\n",
      "\n",
      "Initial mean DeltaE:  12.111665689\n",
      "Number of components:  10\n",
      "\n",
      "Color correction complete.\n",
      "\n",
      "No 'info' detected by the model.\n",
      "\n"
     ]
    },
    {
     "name": "stderr",
     "output_type": "stream",
     "text": [
      "Extracting features: 100%|██████████| 10/10 [00:00<00:00, 28.83it/s]\n",
      "Extracting features: 0it [00:00, ?it/s]\n"
     ]
    },
    {
     "name": "stdout",
     "output_type": "stream",
     "text": [
      "\n",
      "Image 25 of 69 processed.\n",
      "\n",
      "0: 1856x2784 1 ColorCard, 9 berrys, 1 info, 283.3ms\n",
      "Speed: 31.6ms preprocess, 283.3ms inference, 131.7ms postprocess per image at shape (1, 3, 1856, 2784)\n",
      "\n",
      "Color correcting the image...\n",
      "\n",
      "Initial mean DeltaE:  10.5106499713\n",
      "Number of components:  10\n",
      "\n",
      "Color correction complete.\n",
      "\n",
      "\n",
      "Reading QR code...\n",
      "\n",
      "\n",
      "QR code reading complete.\n",
      "\n"
     ]
    },
    {
     "name": "stderr",
     "output_type": "stream",
     "text": [
      "Extracting features: 100%|██████████| 9/9 [00:00<00:00, 31.77it/s]\n",
      "Extracting features: 0it [00:00, ?it/s]\n"
     ]
    },
    {
     "name": "stdout",
     "output_type": "stream",
     "text": [
      "\n",
      "Image 26 of 69 processed.\n",
      "\n",
      "0: 1856x2784 1 ColorCard, 8 berrys, 1 info, 301.5ms\n",
      "Speed: 22.7ms preprocess, 301.5ms inference, 88.8ms postprocess per image at shape (1, 3, 1856, 2784)\n",
      "\n",
      "Color correcting the image...\n",
      "\n",
      "Initial mean DeltaE:  13.7721133192\n",
      "Number of components:  10\n",
      "\n",
      "Color correction complete.\n",
      "\n",
      "\n",
      "Reading QR code...\n",
      "\n",
      "\n",
      "QR code reading complete.\n",
      "\n"
     ]
    },
    {
     "name": "stderr",
     "output_type": "stream",
     "text": [
      "Extracting features: 100%|██████████| 8/8 [00:00<00:00, 28.47it/s]\n",
      "Extracting features: 0it [00:00, ?it/s]\n"
     ]
    },
    {
     "name": "stdout",
     "output_type": "stream",
     "text": [
      "\n",
      "Image 27 of 69 processed.\n",
      "\n",
      "0: 1856x2784 1 ColorCard, 6 berrys, 1 info, 282.7ms\n",
      "Speed: 33.4ms preprocess, 282.7ms inference, 67.0ms postprocess per image at shape (1, 3, 1856, 2784)\n",
      "\n",
      "Color correcting the image...\n",
      "\n",
      "Initial mean DeltaE:  12.1267236028\n",
      "Number of components:  10\n",
      "\n",
      "Color correction complete.\n",
      "\n",
      "\n",
      "Reading QR code...\n",
      "\n",
      "\n",
      "QR code reading complete.\n",
      "\n"
     ]
    },
    {
     "name": "stderr",
     "output_type": "stream",
     "text": [
      "Extracting features: 100%|██████████| 6/6 [00:00<00:00, 29.97it/s]\n",
      "Extracting features: 0it [00:00, ?it/s]\n"
     ]
    },
    {
     "name": "stdout",
     "output_type": "stream",
     "text": [
      "\n",
      "Image 28 of 69 processed.\n",
      "\n",
      "0: 1856x2784 1 ColorCard, 10 berrys, 1 info, 329.4ms\n",
      "Speed: 37.7ms preprocess, 329.4ms inference, 116.3ms postprocess per image at shape (1, 3, 1856, 2784)\n",
      "\n",
      "Color correcting the image...\n",
      "\n",
      "Initial mean DeltaE:  12.1548339445\n",
      "Number of components:  10\n",
      "\n",
      "Color correction complete.\n",
      "\n",
      "\n",
      "Reading QR code...\n",
      "\n",
      "\n",
      "QR code reading complete.\n",
      "\n"
     ]
    },
    {
     "name": "stderr",
     "output_type": "stream",
     "text": [
      "Extracting features: 100%|██████████| 10/10 [00:00<00:00, 30.00it/s]\n",
      "Extracting features: 0it [00:00, ?it/s]\n"
     ]
    },
    {
     "name": "stdout",
     "output_type": "stream",
     "text": [
      "\n",
      "Image 29 of 69 processed.\n",
      "\n",
      "0: 1856x2784 1 ColorCard, 10 berrys, 1 info, 290.4ms\n",
      "Speed: 33.1ms preprocess, 290.4ms inference, 116.1ms postprocess per image at shape (1, 3, 1856, 2784)\n",
      "\n",
      "Color correcting the image...\n",
      "\n",
      "Initial mean DeltaE:  10.9054611511\n",
      "Number of components:  10\n",
      "\n",
      "Color correction complete.\n",
      "\n",
      "\n",
      "Reading QR code...\n",
      "\n",
      "\n",
      "QR code reading complete.\n",
      "\n"
     ]
    },
    {
     "name": "stderr",
     "output_type": "stream",
     "text": [
      "Extracting features: 100%|██████████| 10/10 [00:00<00:00, 33.34it/s]\n",
      "Extracting features: 0it [00:00, ?it/s]\n"
     ]
    },
    {
     "name": "stdout",
     "output_type": "stream",
     "text": [
      "\n",
      "Image 30 of 69 processed.\n",
      "\n",
      "0: 1856x2784 1 ColorCard, 6 berrys, 1 info, 283.3ms\n",
      "Speed: 33.6ms preprocess, 283.3ms inference, 68.6ms postprocess per image at shape (1, 3, 1856, 2784)\n",
      "\n",
      "Color correcting the image...\n",
      "\n",
      "Initial mean DeltaE:  10.3167093017\n",
      "Number of components:  10\n",
      "\n",
      "Color correction complete.\n",
      "\n",
      "\n",
      "Reading QR code...\n",
      "\n",
      "\n",
      "QR code reading complete.\n",
      "\n"
     ]
    },
    {
     "name": "stderr",
     "output_type": "stream",
     "text": [
      "Extracting features: 100%|██████████| 6/6 [00:00<00:00, 27.59it/s]\n",
      "Extracting features: 0it [00:00, ?it/s]\n"
     ]
    },
    {
     "name": "stdout",
     "output_type": "stream",
     "text": [
      "\n",
      "Image 31 of 69 processed.\n",
      "\n",
      "0: 1856x2784 1 ColorCard, 6 berrys, 299.7ms\n",
      "Speed: 16.9ms preprocess, 299.7ms inference, 71.2ms postprocess per image at shape (1, 3, 1856, 2784)\n",
      "\n",
      "Color correcting the image...\n",
      "\n",
      "Initial mean DeltaE:  9.13649792964\n",
      "Number of components:  10\n",
      "\n",
      "Color correction complete.\n",
      "\n",
      "No 'info' detected by the model.\n",
      "\n"
     ]
    },
    {
     "name": "stderr",
     "output_type": "stream",
     "text": [
      "Extracting features: 100%|██████████| 6/6 [00:00<00:00, 30.01it/s]\n",
      "Extracting features: 0it [00:00, ?it/s]\n"
     ]
    },
    {
     "name": "stdout",
     "output_type": "stream",
     "text": [
      "\n",
      "Image 32 of 69 processed.\n",
      "\n",
      "0: 1856x2784 1 ColorCard, 10 berrys, 1 info, 281.0ms\n",
      "Speed: 35.7ms preprocess, 281.0ms inference, 116.7ms postprocess per image at shape (1, 3, 1856, 2784)\n",
      "\n",
      "Color correcting the image...\n",
      "\n",
      "Initial mean DeltaE:  9.88462900104\n",
      "Number of components:  10\n",
      "\n",
      "Color correction complete.\n",
      "\n",
      "\n",
      "Reading QR code...\n",
      "\n",
      "\n",
      "QR code reading complete.\n",
      "\n"
     ]
    },
    {
     "name": "stderr",
     "output_type": "stream",
     "text": [
      "Extracting features: 100%|██████████| 10/10 [00:00<00:00, 33.08it/s]\n",
      "Extracting features: 0it [00:00, ?it/s]\n"
     ]
    },
    {
     "name": "stdout",
     "output_type": "stream",
     "text": [
      "\n",
      "Image 33 of 69 processed.\n",
      "\n",
      "0: 1856x2784 1 ColorCard, 10 berrys, 1 info, 299.9ms\n",
      "Speed: 17.1ms preprocess, 299.9ms inference, 116.6ms postprocess per image at shape (1, 3, 1856, 2784)\n",
      "\n",
      "Color correcting the image...\n",
      "\n",
      "Initial mean DeltaE:  10.6133243807\n",
      "Number of components:  10\n",
      "\n",
      "Color correction complete.\n",
      "\n",
      "\n",
      "Reading QR code...\n",
      "\n",
      "\n",
      "QR code reading complete.\n",
      "\n"
     ]
    },
    {
     "name": "stderr",
     "output_type": "stream",
     "text": [
      "Extracting features: 100%|██████████| 10/10 [00:00<00:00, 26.11it/s]\n",
      "Extracting features: 0it [00:00, ?it/s]\n"
     ]
    },
    {
     "name": "stdout",
     "output_type": "stream",
     "text": [
      "\n",
      "Image 34 of 69 processed.\n",
      "\n",
      "0: 1856x2784 1 ColorCard, 10 berrys, 1 info, 296.9ms\n",
      "Speed: 19.7ms preprocess, 296.9ms inference, 130.6ms postprocess per image at shape (1, 3, 1856, 2784)\n",
      "\n",
      "Color correcting the image...\n",
      "\n",
      "Initial mean DeltaE:  9.63871665057\n",
      "Number of components:  10\n",
      "\n",
      "Color correction complete.\n",
      "\n",
      "\n",
      "Reading QR code...\n",
      "\n",
      "\n",
      "QR code reading complete.\n",
      "\n"
     ]
    },
    {
     "name": "stderr",
     "output_type": "stream",
     "text": [
      "Extracting features: 100%|██████████| 10/10 [00:00<00:00, 28.28it/s]\n",
      "Extracting features: 0it [00:00, ?it/s]\n"
     ]
    },
    {
     "name": "stdout",
     "output_type": "stream",
     "text": [
      "\n",
      "Image 35 of 69 processed.\n",
      "\n",
      "0: 1856x2784 1 ColorCard, 10 berrys, 1 info, 306.0ms\n",
      "Speed: 22.0ms preprocess, 306.0ms inference, 113.5ms postprocess per image at shape (1, 3, 1856, 2784)\n",
      "\n",
      "Color correcting the image...\n",
      "\n",
      "Initial mean DeltaE:  9.72656766315\n",
      "Number of components:  10\n",
      "\n",
      "Color correction complete.\n",
      "\n",
      "\n",
      "Reading QR code...\n",
      "\n",
      "\n",
      "QR code reading complete.\n",
      "\n"
     ]
    },
    {
     "name": "stderr",
     "output_type": "stream",
     "text": [
      "Extracting features: 100%|██████████| 10/10 [00:00<00:00, 29.97it/s]\n",
      "Extracting features: 0it [00:00, ?it/s]\n"
     ]
    },
    {
     "name": "stdout",
     "output_type": "stream",
     "text": [
      "\n",
      "Image 36 of 69 processed.\n",
      "\n",
      "0: 1856x2784 1 ColorCard, 10 berrys, 1 info, 301.2ms\n",
      "Speed: 17.7ms preprocess, 301.2ms inference, 131.7ms postprocess per image at shape (1, 3, 1856, 2784)\n",
      "\n",
      "Color correcting the image...\n",
      "\n",
      "Initial mean DeltaE:  13.4327086226\n",
      "Number of components:  10\n",
      "\n",
      "Color correction complete.\n",
      "\n",
      "\n",
      "Reading QR code...\n",
      "\n",
      "\n",
      "QR code reading complete.\n",
      "\n"
     ]
    },
    {
     "name": "stderr",
     "output_type": "stream",
     "text": [
      "Extracting features: 100%|██████████| 10/10 [00:00<00:00, 30.14it/s]\n",
      "Extracting features: 0it [00:00, ?it/s]\n"
     ]
    },
    {
     "name": "stdout",
     "output_type": "stream",
     "text": [
      "\n",
      "Image 37 of 69 processed.\n",
      "\n",
      "0: 1856x2784 1 ColorCard, 10 berrys, 296.8ms\n",
      "Speed: 35.6ms preprocess, 296.8ms inference, 122.1ms postprocess per image at shape (1, 3, 1856, 2784)\n",
      "\n",
      "Color correcting the image...\n",
      "\n",
      "Initial mean DeltaE:  11.7285986027\n",
      "Number of components:  10\n",
      "\n",
      "Color correction complete.\n",
      "\n",
      "No 'info' detected by the model.\n",
      "\n"
     ]
    },
    {
     "name": "stderr",
     "output_type": "stream",
     "text": [
      "Extracting features: 100%|██████████| 10/10 [00:00<00:00, 31.42it/s]\n",
      "Extracting features: 0it [00:00, ?it/s]\n"
     ]
    },
    {
     "name": "stdout",
     "output_type": "stream",
     "text": [
      "\n",
      "Image 38 of 69 processed.\n",
      "\n",
      "0: 1856x2784 1 ColorCard, 6 berrys, 1 info, 311.4ms\n",
      "Speed: 26.3ms preprocess, 311.4ms inference, 68.9ms postprocess per image at shape (1, 3, 1856, 2784)\n",
      "\n",
      "Color correcting the image...\n",
      "\n",
      "Initial mean DeltaE:  11.318746669\n",
      "Number of components:  10\n",
      "\n",
      "Color correction complete.\n",
      "\n",
      "\n",
      "Reading QR code...\n",
      "\n",
      "\n",
      "QR code reading complete.\n",
      "\n"
     ]
    },
    {
     "name": "stderr",
     "output_type": "stream",
     "text": [
      "Extracting features: 100%|██████████| 6/6 [00:00<00:00, 29.16it/s]\n",
      "Extracting features: 0it [00:00, ?it/s]\n"
     ]
    },
    {
     "name": "stdout",
     "output_type": "stream",
     "text": [
      "\n",
      "Image 39 of 69 processed.\n",
      "\n",
      "0: 1856x2784 1 ColorCard, 10 berrys, 1 info, 297.6ms\n",
      "Speed: 35.7ms preprocess, 297.6ms inference, 98.6ms postprocess per image at shape (1, 3, 1856, 2784)\n",
      "\n",
      "Color correcting the image...\n",
      "\n",
      "Initial mean DeltaE:  8.77851404604\n",
      "Number of components:  10\n",
      "\n",
      "Color correction complete.\n",
      "\n",
      "\n",
      "Reading QR code...\n",
      "\n",
      "\n",
      "QR code reading complete.\n",
      "\n"
     ]
    },
    {
     "name": "stderr",
     "output_type": "stream",
     "text": [
      "Extracting features: 100%|██████████| 10/10 [00:00<00:00, 31.20it/s]\n",
      "Extracting features: 0it [00:00, ?it/s]\n"
     ]
    },
    {
     "name": "stdout",
     "output_type": "stream",
     "text": [
      "\n",
      "Image 40 of 69 processed.\n",
      "\n",
      "0: 1856x2784 1 ColorCard, 10 berrys, 1 info, 283.4ms\n",
      "Speed: 32.8ms preprocess, 283.4ms inference, 115.3ms postprocess per image at shape (1, 3, 1856, 2784)\n",
      "\n",
      "Color correcting the image...\n",
      "\n",
      "Initial mean DeltaE:  9.36709189855\n",
      "Number of components:  10\n",
      "\n",
      "Color correction complete.\n",
      "\n",
      "\n",
      "Reading QR code...\n",
      "\n",
      "\n",
      "QR code reading complete.\n",
      "\n"
     ]
    },
    {
     "name": "stderr",
     "output_type": "stream",
     "text": [
      "Extracting features: 100%|██████████| 10/10 [00:00<00:00, 30.01it/s]\n",
      "Extracting features: 0it [00:00, ?it/s]\n"
     ]
    },
    {
     "name": "stdout",
     "output_type": "stream",
     "text": [
      "\n",
      "Image 41 of 69 processed.\n",
      "\n",
      "0: 1856x2784 1 ColorCard, 10 berrys, 1 info, 317.5ms\n",
      "Speed: 15.6ms preprocess, 317.5ms inference, 131.7ms postprocess per image at shape (1, 3, 1856, 2784)\n",
      "\n",
      "Color correcting the image...\n",
      "\n",
      "Initial mean DeltaE:  10.6497675579\n",
      "Number of components:  10\n",
      "\n",
      "Color correction complete.\n",
      "\n",
      "\n",
      "Reading QR code...\n",
      "\n",
      "\n",
      "QR code reading complete.\n",
      "\n"
     ]
    },
    {
     "name": "stderr",
     "output_type": "stream",
     "text": [
      "Extracting features: 100%|██████████| 10/10 [00:00<00:00, 26.26it/s]\n",
      "Extracting features: 0it [00:00, ?it/s]\n"
     ]
    },
    {
     "name": "stdout",
     "output_type": "stream",
     "text": [
      "\n",
      "Image 42 of 69 processed.\n",
      "\n",
      "0: 1856x2784 1 ColorCard, 10 berrys, 2 infos, 310.0ms\n",
      "Speed: 15.7ms preprocess, 310.0ms inference, 138.6ms postprocess per image at shape (1, 3, 1856, 2784)\n",
      "\n",
      "Color correcting the image...\n",
      "\n",
      "Initial mean DeltaE:  7.510744696\n",
      "Number of components:  10\n",
      "\n",
      "Color correction complete.\n",
      "\n",
      "\n",
      "Reading QR code...\n",
      "\n",
      "\n",
      "QR code reading complete.\n",
      "\n"
     ]
    },
    {
     "name": "stderr",
     "output_type": "stream",
     "text": [
      "Extracting features: 100%|██████████| 10/10 [00:00<00:00, 29.96it/s]\n",
      "Extracting features: 0it [00:00, ?it/s]\n"
     ]
    },
    {
     "name": "stdout",
     "output_type": "stream",
     "text": [
      "\n",
      "Image 43 of 69 processed.\n",
      "\n",
      "0: 1856x2784 1 ColorCard, 10 berrys, 1 info, 299.5ms\n",
      "Speed: 31.9ms preprocess, 299.5ms inference, 116.7ms postprocess per image at shape (1, 3, 1856, 2784)\n",
      "\n",
      "Color correcting the image...\n",
      "\n",
      "Initial mean DeltaE:  11.1428998425\n",
      "Number of components:  10\n",
      "\n",
      "Color correction complete.\n",
      "\n",
      "\n",
      "Reading QR code...\n",
      "\n",
      "\n",
      "QR code reading complete.\n",
      "\n"
     ]
    },
    {
     "name": "stderr",
     "output_type": "stream",
     "text": [
      "Extracting features: 100%|██████████| 10/10 [00:00<00:00, 24.81it/s]\n",
      "Extracting features: 0it [00:00, ?it/s]\n"
     ]
    },
    {
     "name": "stdout",
     "output_type": "stream",
     "text": [
      "\n",
      "Image 44 of 69 processed.\n",
      "\n",
      "0: 1856x2784 1 ColorCard, 10 berrys, 1 info, 333.3ms\n",
      "Speed: 34.7ms preprocess, 333.3ms inference, 115.7ms postprocess per image at shape (1, 3, 1856, 2784)\n",
      "\n",
      "Color correcting the image...\n",
      "\n",
      "Initial mean DeltaE:  11.2869659743\n",
      "Number of components:  10\n",
      "\n",
      "Color correction complete.\n",
      "\n",
      "\n",
      "Reading QR code...\n",
      "\n",
      "\n",
      "QR code reading complete.\n",
      "\n"
     ]
    },
    {
     "name": "stderr",
     "output_type": "stream",
     "text": [
      "Extracting features: 100%|██████████| 10/10 [00:00<00:00, 30.03it/s]\n",
      "Extracting features: 0it [00:00, ?it/s]\n"
     ]
    },
    {
     "name": "stdout",
     "output_type": "stream",
     "text": [
      "\n",
      "Image 45 of 69 processed.\n",
      "\n",
      "0: 1856x2784 1 ColorCard, 10 berrys, 1 info, 300.4ms\n",
      "Speed: 23.4ms preprocess, 300.4ms inference, 133.1ms postprocess per image at shape (1, 3, 1856, 2784)\n",
      "\n",
      "Color correcting the image...\n",
      "\n",
      "Initial mean DeltaE:  9.63611934357\n",
      "Number of components:  10\n",
      "\n",
      "Color correction complete.\n",
      "\n",
      "\n",
      "Reading QR code...\n",
      "\n",
      "\n",
      "QR code reading complete.\n",
      "\n"
     ]
    },
    {
     "name": "stderr",
     "output_type": "stream",
     "text": [
      "Extracting features: 100%|██████████| 10/10 [00:00<00:00, 28.50it/s]\n",
      "Extracting features: 0it [00:00, ?it/s]\n"
     ]
    },
    {
     "name": "stdout",
     "output_type": "stream",
     "text": [
      "\n",
      "Image 46 of 69 processed.\n",
      "\n",
      "0: 1856x2784 1 ColorCard, 9 berrys, 332.2ms\n",
      "Speed: 35.1ms preprocess, 332.2ms inference, 99.5ms postprocess per image at shape (1, 3, 1856, 2784)\n",
      "\n",
      "Color correcting the image...\n",
      "\n",
      "Initial mean DeltaE:  13.2489564077\n"
     ]
    },
    {
     "name": "stderr",
     "output_type": "stream",
     "text": [
      "c:\\Users\\Jeffrey.Neyhart\\AppData\\Local\\anaconda3\\envs\\berryboxai\\lib\\site-packages\\numpy\\core\\fromnumeric.py:3504: RuntimeWarning: Mean of empty slice.\n",
      "  return _methods._mean(a, axis=axis, dtype=dtype,\n",
      "c:\\Users\\Jeffrey.Neyhart\\AppData\\Local\\anaconda3\\envs\\berryboxai\\lib\\site-packages\\numpy\\core\\_methods.py:129: RuntimeWarning: invalid value encountered in scalar divide\n",
      "  ret = ret.dtype.type(ret / rcount)\n",
      "c:\\Users\\Jeffrey.Neyhart\\AppData\\Local\\anaconda3\\envs\\berryboxai\\lib\\site-packages\\ColorCorrectionML\\ColorCorrectionML.py:56: RuntimeWarning: invalid value encountered in cast\n",
      "  return np.round(np.mean(Dims, axis=0)).astype(int)\n"
     ]
    },
    {
     "name": "stdout",
     "output_type": "stream",
     "text": [
      "Number of components:  10\n",
      "\n",
      "Color correction complete.\n",
      "\n",
      "No 'info' detected by the model.\n",
      "\n"
     ]
    },
    {
     "name": "stderr",
     "output_type": "stream",
     "text": [
      "Extracting features: 100%|██████████| 9/9 [00:00<00:00, 32.03it/s]\n",
      "Extracting features: 0it [00:00, ?it/s]\n"
     ]
    },
    {
     "name": "stdout",
     "output_type": "stream",
     "text": [
      "\n",
      "Image 47 of 69 processed.\n",
      "\n",
      "0: 1856x2784 1 ColorCard, 10 berrys, 1 info, 333.5ms\n",
      "Speed: 15.0ms preprocess, 333.5ms inference, 133.8ms postprocess per image at shape (1, 3, 1856, 2784)\n",
      "\n",
      "Color correcting the image...\n",
      "\n"
     ]
    },
    {
     "name": "stderr",
     "output_type": "stream",
     "text": [
      "c:\\Users\\Jeffrey.Neyhart\\AppData\\Local\\anaconda3\\envs\\berryboxai\\lib\\site-packages\\numpy\\core\\fromnumeric.py:3504: RuntimeWarning: Mean of empty slice.\n",
      "  return _methods._mean(a, axis=axis, dtype=dtype,\n",
      "c:\\Users\\Jeffrey.Neyhart\\AppData\\Local\\anaconda3\\envs\\berryboxai\\lib\\site-packages\\numpy\\core\\_methods.py:129: RuntimeWarning: invalid value encountered in scalar divide\n",
      "  ret = ret.dtype.type(ret / rcount)\n",
      "c:\\Users\\Jeffrey.Neyhart\\AppData\\Local\\anaconda3\\envs\\berryboxai\\lib\\site-packages\\ColorCorrectionML\\ColorCorrectionML.py:56: RuntimeWarning: invalid value encountered in cast\n",
      "  return np.round(np.mean(Dims, axis=0)).astype(int)\n"
     ]
    },
    {
     "name": "stdout",
     "output_type": "stream",
     "text": [
      "Initial mean DeltaE:  12.1264661089\n",
      "Number of components:  10\n",
      "\n",
      "Color correction complete.\n",
      "\n",
      "\n",
      "Reading QR code...\n",
      "\n",
      "\n",
      "QR code reading complete.\n",
      "\n"
     ]
    },
    {
     "name": "stderr",
     "output_type": "stream",
     "text": [
      "Extracting features: 100%|██████████| 10/10 [00:00<00:00, 30.27it/s]\n",
      "Extracting features: 0it [00:00, ?it/s]\n"
     ]
    },
    {
     "name": "stdout",
     "output_type": "stream",
     "text": [
      "\n",
      "Image 48 of 69 processed.\n",
      "\n",
      "0: 1856x2784 1 ColorCard, 10 berrys, 1 info, 301.9ms\n",
      "Speed: 33.4ms preprocess, 301.9ms inference, 115.2ms postprocess per image at shape (1, 3, 1856, 2784)\n",
      "\n",
      "Color correcting the image...\n",
      "\n",
      "Initial mean DeltaE:  12.8398534869\n"
     ]
    },
    {
     "name": "stderr",
     "output_type": "stream",
     "text": [
      "c:\\Users\\Jeffrey.Neyhart\\AppData\\Local\\anaconda3\\envs\\berryboxai\\lib\\site-packages\\numpy\\core\\fromnumeric.py:3504: RuntimeWarning: Mean of empty slice.\n",
      "  return _methods._mean(a, axis=axis, dtype=dtype,\n",
      "c:\\Users\\Jeffrey.Neyhart\\AppData\\Local\\anaconda3\\envs\\berryboxai\\lib\\site-packages\\numpy\\core\\_methods.py:129: RuntimeWarning: invalid value encountered in scalar divide\n",
      "  ret = ret.dtype.type(ret / rcount)\n",
      "c:\\Users\\Jeffrey.Neyhart\\AppData\\Local\\anaconda3\\envs\\berryboxai\\lib\\site-packages\\ColorCorrectionML\\ColorCorrectionML.py:56: RuntimeWarning: invalid value encountered in cast\n",
      "  return np.round(np.mean(Dims, axis=0)).astype(int)\n"
     ]
    },
    {
     "name": "stdout",
     "output_type": "stream",
     "text": [
      "Number of components:  10\n",
      "\n",
      "Color correction complete.\n",
      "\n",
      "\n",
      "Reading QR code...\n",
      "\n",
      "\n",
      "QR code reading complete.\n",
      "\n"
     ]
    },
    {
     "name": "stderr",
     "output_type": "stream",
     "text": [
      "Extracting features: 100%|██████████| 10/10 [00:00<00:00, 28.80it/s]\n",
      "Extracting features: 0it [00:00, ?it/s]\n"
     ]
    },
    {
     "name": "stdout",
     "output_type": "stream",
     "text": [
      "\n",
      "Image 49 of 69 processed.\n",
      "\n",
      "0: 1856x2784 1 ColorCard, 8 berrys, 1 info, 311.9ms\n",
      "Speed: 32.4ms preprocess, 311.9ms inference, 105.9ms postprocess per image at shape (1, 3, 1856, 2784)\n",
      "\n",
      "Color correcting the image...\n",
      "\n",
      "Initial mean DeltaE:  13.7033643752\n",
      "Number of components:  10\n"
     ]
    },
    {
     "name": "stderr",
     "output_type": "stream",
     "text": [
      "c:\\Users\\Jeffrey.Neyhart\\AppData\\Local\\anaconda3\\envs\\berryboxai\\lib\\site-packages\\numpy\\core\\fromnumeric.py:3504: RuntimeWarning: Mean of empty slice.\n",
      "  return _methods._mean(a, axis=axis, dtype=dtype,\n",
      "c:\\Users\\Jeffrey.Neyhart\\AppData\\Local\\anaconda3\\envs\\berryboxai\\lib\\site-packages\\numpy\\core\\_methods.py:129: RuntimeWarning: invalid value encountered in scalar divide\n",
      "  ret = ret.dtype.type(ret / rcount)\n",
      "c:\\Users\\Jeffrey.Neyhart\\AppData\\Local\\anaconda3\\envs\\berryboxai\\lib\\site-packages\\ColorCorrectionML\\ColorCorrectionML.py:56: RuntimeWarning: invalid value encountered in cast\n",
      "  return np.round(np.mean(Dims, axis=0)).astype(int)\n"
     ]
    },
    {
     "name": "stdout",
     "output_type": "stream",
     "text": [
      "\n",
      "Color correction complete.\n",
      "\n",
      "\n",
      "Reading QR code...\n",
      "\n",
      "\n",
      "QR code reading complete.\n",
      "\n"
     ]
    },
    {
     "name": "stderr",
     "output_type": "stream",
     "text": [
      "Extracting features: 100%|██████████| 8/8 [00:00<00:00, 29.97it/s]\n",
      "Extracting features: 0it [00:00, ?it/s]\n"
     ]
    },
    {
     "name": "stdout",
     "output_type": "stream",
     "text": [
      "\n",
      "Image 50 of 69 processed.\n",
      "\n",
      "0: 1856x2784 1 ColorCard, 10 berrys, 1 info, 369.0ms\n",
      "Speed: 33.0ms preprocess, 369.0ms inference, 115.1ms postprocess per image at shape (1, 3, 1856, 2784)\n",
      "\n",
      "Color correcting the image...\n",
      "\n",
      "Initial mean DeltaE:  10.1597521474\n",
      "Number of components:  10\n",
      "\n",
      "Color correction complete.\n",
      "\n",
      "\n",
      "Reading QR code...\n",
      "\n",
      "\n",
      "QR code reading complete.\n",
      "\n"
     ]
    },
    {
     "name": "stderr",
     "output_type": "stream",
     "text": [
      "Extracting features: 100%|██████████| 10/10 [00:00<00:00, 26.10it/s]\n",
      "Extracting features: 0it [00:00, ?it/s]\n"
     ]
    },
    {
     "name": "stdout",
     "output_type": "stream",
     "text": [
      "\n",
      "Image 51 of 69 processed.\n",
      "\n",
      "0: 1856x2784 1 ColorCard, 10 berrys, 1 info, 294.7ms\n",
      "Speed: 32.5ms preprocess, 294.7ms inference, 112.1ms postprocess per image at shape (1, 3, 1856, 2784)\n",
      "\n",
      "Color correcting the image...\n",
      "\n",
      "Initial mean DeltaE:  9.65498387021\n",
      "Number of components:  10\n",
      "\n",
      "Color correction complete.\n",
      "\n",
      "\n",
      "Reading QR code...\n",
      "\n",
      "\n",
      "QR code reading complete.\n",
      "\n"
     ]
    },
    {
     "name": "stderr",
     "output_type": "stream",
     "text": [
      "Extracting features: 100%|██████████| 10/10 [00:00<00:00, 30.01it/s]\n",
      "Extracting features: 0it [00:00, ?it/s]\n"
     ]
    },
    {
     "name": "stdout",
     "output_type": "stream",
     "text": [
      "\n",
      "Image 52 of 69 processed.\n",
      "\n",
      "0: 1856x2784 1 ColorCard, 10 berrys, 1 info, 278.7ms\n",
      "Speed: 37.1ms preprocess, 278.7ms inference, 117.5ms postprocess per image at shape (1, 3, 1856, 2784)\n",
      "\n",
      "Color correcting the image...\n",
      "\n",
      "Initial mean DeltaE:  10.1161884366\n",
      "Number of components:  10\n",
      "\n",
      "Color correction complete.\n",
      "\n",
      "\n",
      "Reading QR code...\n",
      "\n",
      "\n",
      "QR code reading complete.\n",
      "\n"
     ]
    },
    {
     "name": "stderr",
     "output_type": "stream",
     "text": [
      "Extracting features: 100%|██████████| 10/10 [00:00<00:00, 30.01it/s]\n",
      "Extracting features: 0it [00:00, ?it/s]\n"
     ]
    },
    {
     "name": "stdout",
     "output_type": "stream",
     "text": [
      "\n",
      "Image 53 of 69 processed.\n",
      "\n",
      "0: 1856x2784 1 ColorCard, 10 berrys, 1 info, 296.7ms\n",
      "Speed: 20.4ms preprocess, 296.7ms inference, 133.3ms postprocess per image at shape (1, 3, 1856, 2784)\n",
      "\n",
      "Color correcting the image...\n",
      "\n",
      "Initial mean DeltaE:  11.8083788029\n",
      "Number of components:  10\n",
      "\n",
      "Color correction complete.\n",
      "\n",
      "\n",
      "Reading QR code...\n",
      "\n",
      "\n",
      "QR code reading complete.\n",
      "\n"
     ]
    },
    {
     "name": "stderr",
     "output_type": "stream",
     "text": [
      "Extracting features: 100%|██████████| 10/10 [00:00<00:00, 28.44it/s]\n",
      "Extracting features: 0it [00:00, ?it/s]\n"
     ]
    },
    {
     "name": "stdout",
     "output_type": "stream",
     "text": [
      "\n",
      "Image 54 of 69 processed.\n",
      "\n",
      "0: 1856x2784 1 ColorCard, 10 berrys, 1 info, 311.3ms\n",
      "Speed: 40.7ms preprocess, 311.3ms inference, 114.6ms postprocess per image at shape (1, 3, 1856, 2784)\n",
      "\n",
      "Color correcting the image...\n",
      "\n",
      "Initial mean DeltaE:  11.4530994497\n",
      "Number of components:  10\n",
      "\n",
      "Color correction complete.\n",
      "\n",
      "\n",
      "Reading QR code...\n",
      "\n",
      "\n",
      "QR code reading complete.\n",
      "\n"
     ]
    },
    {
     "name": "stderr",
     "output_type": "stream",
     "text": [
      "Extracting features: 100%|██████████| 10/10 [00:00<00:00, 30.46it/s]\n",
      "Extracting features: 0it [00:00, ?it/s]\n"
     ]
    },
    {
     "name": "stdout",
     "output_type": "stream",
     "text": [
      "\n",
      "Image 55 of 69 processed.\n",
      "\n",
      "0: 1856x2784 1 ColorCard, 10 berrys, 1 info, 295.0ms\n",
      "Speed: 38.4ms preprocess, 295.0ms inference, 116.8ms postprocess per image at shape (1, 3, 1856, 2784)\n",
      "\n",
      "Color correcting the image...\n",
      "\n",
      "Initial mean DeltaE:  8.52294765443\n",
      "Number of components:  10\n",
      "\n",
      "Color correction complete.\n",
      "\n",
      "\n",
      "Reading QR code...\n",
      "\n",
      "\n",
      "QR code reading complete.\n",
      "\n"
     ]
    },
    {
     "name": "stderr",
     "output_type": "stream",
     "text": [
      "Extracting features: 100%|██████████| 10/10 [00:00<00:00, 27.66it/s]\n",
      "Extracting features: 0it [00:00, ?it/s]\n"
     ]
    },
    {
     "name": "stdout",
     "output_type": "stream",
     "text": [
      "\n",
      "Image 56 of 69 processed.\n",
      "\n",
      "0: 1856x2784 1 ColorCard, 10 berrys, 1 info, 299.3ms\n",
      "Speed: 34.1ms preprocess, 299.3ms inference, 143.1ms postprocess per image at shape (1, 3, 1856, 2784)\n",
      "\n",
      "Color correcting the image...\n",
      "\n",
      "Initial mean DeltaE:  7.98807049315\n",
      "Number of components:  10\n",
      "\n",
      "Color correction complete.\n",
      "\n",
      "\n",
      "Reading QR code...\n",
      "\n",
      "\n",
      "QR code reading complete.\n",
      "\n"
     ]
    },
    {
     "name": "stderr",
     "output_type": "stream",
     "text": [
      "Extracting features: 100%|██████████| 10/10 [00:00<00:00, 28.75it/s]\n",
      "Extracting features: 0it [00:00, ?it/s]\n"
     ]
    },
    {
     "name": "stdout",
     "output_type": "stream",
     "text": [
      "\n",
      "Image 57 of 69 processed.\n",
      "\n",
      "0: 1856x2784 1 ColorCard, 9 berrys, 1 info, 310.9ms\n",
      "Speed: 33.2ms preprocess, 310.9ms inference, 123.7ms postprocess per image at shape (1, 3, 1856, 2784)\n",
      "\n",
      "Color correcting the image...\n",
      "\n",
      "Initial mean DeltaE:  9.61627334074\n",
      "Number of components:  10\n",
      "\n",
      "Color correction complete.\n",
      "\n",
      "\n",
      "Reading QR code...\n",
      "\n",
      "\n",
      "QR code reading complete.\n",
      "\n"
     ]
    },
    {
     "name": "stderr",
     "output_type": "stream",
     "text": [
      "Extracting features: 100%|██████████| 9/9 [00:00<00:00, 29.33it/s]\n",
      "Extracting features: 0it [00:00, ?it/s]\n"
     ]
    },
    {
     "name": "stdout",
     "output_type": "stream",
     "text": [
      "\n",
      "Image 58 of 69 processed.\n",
      "\n",
      "0: 1856x2784 1 ColorCard, 8 berrys, 1 info, 299.5ms\n",
      "Speed: 25.9ms preprocess, 299.5ms inference, 87.7ms postprocess per image at shape (1, 3, 1856, 2784)\n",
      "\n",
      "Color correcting the image...\n",
      "\n",
      "Initial mean DeltaE:  8.92853434199\n",
      "Number of components:  10\n",
      "\n",
      "Color correction complete.\n",
      "\n",
      "\n",
      "Reading QR code...\n",
      "\n",
      "\n",
      "QR code reading complete.\n",
      "\n"
     ]
    },
    {
     "name": "stderr",
     "output_type": "stream",
     "text": [
      "Extracting features: 100%|██████████| 8/8 [00:00<00:00, 32.00it/s]\n",
      "Extracting features: 0it [00:00, ?it/s]\n"
     ]
    },
    {
     "name": "stdout",
     "output_type": "stream",
     "text": [
      "\n",
      "Image 59 of 69 processed.\n",
      "\n",
      "0: 1856x2784 1 ColorCard, 9 berrys, 1 info, 300.0ms\n",
      "Speed: 16.9ms preprocess, 300.0ms inference, 100.0ms postprocess per image at shape (1, 3, 1856, 2784)\n",
      "\n",
      "Color correcting the image...\n",
      "\n",
      "Initial mean DeltaE:  8.53574312434\n",
      "Number of components:  10\n",
      "\n",
      "Color correction complete.\n",
      "\n",
      "\n",
      "Reading QR code...\n",
      "\n",
      "\n",
      "QR code reading complete.\n",
      "\n"
     ]
    },
    {
     "name": "stderr",
     "output_type": "stream",
     "text": [
      "Extracting features: 100%|██████████| 9/9 [00:00<00:00, 30.22it/s]\n",
      "Extracting features: 0it [00:00, ?it/s]\n"
     ]
    },
    {
     "name": "stdout",
     "output_type": "stream",
     "text": [
      "\n",
      "Image 60 of 69 processed.\n",
      "\n",
      "0: 1856x2784 1 ColorCard, 10 berrys, 1 info, 376.6ms\n",
      "Speed: 33.7ms preprocess, 376.6ms inference, 123.9ms postprocess per image at shape (1, 3, 1856, 2784)\n",
      "\n",
      "Color correcting the image...\n",
      "\n",
      "Initial mean DeltaE:  8.26783827124\n",
      "Number of components:  10\n",
      "\n",
      "Color correction complete.\n",
      "\n",
      "\n",
      "Reading QR code...\n",
      "\n",
      "\n",
      "QR code reading complete.\n",
      "\n"
     ]
    },
    {
     "name": "stderr",
     "output_type": "stream",
     "text": [
      "Extracting features: 100%|██████████| 10/10 [00:00<00:00, 27.14it/s]\n",
      "Extracting features: 0it [00:00, ?it/s]\n"
     ]
    },
    {
     "name": "stdout",
     "output_type": "stream",
     "text": [
      "\n",
      "Image 61 of 69 processed.\n",
      "\n",
      "0: 1856x2784 1 ColorCard, 7 berrys, 1 info, 300.3ms\n",
      "Speed: 33.5ms preprocess, 300.3ms inference, 82.8ms postprocess per image at shape (1, 3, 1856, 2784)\n",
      "\n",
      "Color correcting the image...\n",
      "\n",
      "Initial mean DeltaE:  7.68608760694\n",
      "Number of components:  10\n",
      "\n",
      "Color correction complete.\n",
      "\n",
      "\n",
      "Reading QR code...\n",
      "\n",
      "\u001b[1;31mCould NOT find QR code in the image!!!\u001b[0m\n",
      "\u001b[1;33mUsing OCR to read the QR code...\u001b[0m\n",
      "OCR Detected ['Harvest Date:09 (29/23', 'Amount Harvested:', 'NJG3-120-21']\n",
      "\n",
      "QR code reading complete.\n",
      "\n"
     ]
    },
    {
     "name": "stderr",
     "output_type": "stream",
     "text": [
      "Extracting features: 100%|██████████| 7/7 [00:00<00:00, 30.05it/s]\n",
      "Extracting features: 0it [00:00, ?it/s]\n"
     ]
    },
    {
     "name": "stdout",
     "output_type": "stream",
     "text": [
      "\n",
      "Image 62 of 69 processed.\n",
      "\n",
      "0: 1856x2784 1 ColorCard, 10 berrys, 1 info, 283.6ms\n",
      "Speed: 13.7ms preprocess, 283.6ms inference, 99.7ms postprocess per image at shape (1, 3, 1856, 2784)\n",
      "\n",
      "Color correcting the image...\n",
      "\n",
      "Initial mean DeltaE:  7.82942322389\n",
      "Number of components:  10\n",
      "\n",
      "Color correction complete.\n",
      "\n",
      "\n",
      "Reading QR code...\n",
      "\n",
      "\n",
      "QR code reading complete.\n",
      "\n"
     ]
    },
    {
     "name": "stderr",
     "output_type": "stream",
     "text": [
      "Extracting features: 100%|██████████| 10/10 [00:00<00:00, 31.74it/s]\n",
      "Extracting features: 0it [00:00, ?it/s]\n"
     ]
    },
    {
     "name": "stdout",
     "output_type": "stream",
     "text": [
      "\n",
      "Image 63 of 69 processed.\n",
      "\n",
      "0: 1856x2784 1 ColorCard, 10 berrys, 300.3ms\n",
      "Speed: 33.3ms preprocess, 300.3ms inference, 118.3ms postprocess per image at shape (1, 3, 1856, 2784)\n",
      "\n",
      "Color correcting the image...\n",
      "\n",
      "Initial mean DeltaE:  8.14604109011\n",
      "Number of components:  10\n",
      "\n",
      "Color correction complete.\n",
      "\n",
      "No 'info' detected by the model.\n",
      "\n"
     ]
    },
    {
     "name": "stderr",
     "output_type": "stream",
     "text": [
      "Extracting features: 100%|██████████| 10/10 [00:00<00:00, 31.59it/s]\n",
      "Extracting features: 0it [00:00, ?it/s]\n"
     ]
    },
    {
     "name": "stdout",
     "output_type": "stream",
     "text": [
      "\n",
      "Image 64 of 69 processed.\n",
      "\n",
      "0: 1856x2784 1 ColorCard, 10 berrys, 1 info, 300.3ms\n",
      "Speed: 30.5ms preprocess, 300.3ms inference, 116.8ms postprocess per image at shape (1, 3, 1856, 2784)\n",
      "\n",
      "Color correcting the image...\n",
      "\n",
      "Initial mean DeltaE:  8.68613377739\n",
      "Number of components:  10\n",
      "\n",
      "Color correction complete.\n",
      "\n",
      "\n",
      "Reading QR code...\n",
      "\n",
      "\u001b[1;31mCould NOT find QR code in the image!!!\u001b[0m\n",
      "\u001b[1;33mUsing OCR to read the QR code...\u001b[0m\n",
      "OCR Detected ['Harvest Date: 4 /28/23', 'Amount Harvested: |0', 'USs8-S1', 'USs8-S|']\n",
      "\n",
      "QR code reading complete.\n",
      "\n"
     ]
    },
    {
     "name": "stderr",
     "output_type": "stream",
     "text": [
      "Extracting features: 100%|██████████| 10/10 [00:00<00:00, 28.58it/s]\n",
      "Extracting features: 0it [00:00, ?it/s]\n"
     ]
    },
    {
     "name": "stdout",
     "output_type": "stream",
     "text": [
      "\n",
      "Image 65 of 69 processed.\n",
      "\n",
      "0: 1856x2784 1 ColorCard, 10 berrys, 1 info, 308.9ms\n",
      "Speed: 33.4ms preprocess, 308.9ms inference, 91.6ms postprocess per image at shape (1, 3, 1856, 2784)\n",
      "\n",
      "Color correcting the image...\n",
      "\n",
      "Initial mean DeltaE:  6.79117596609\n",
      "Number of components:  10\n",
      "\n",
      "Color correction complete.\n",
      "\n",
      "\n",
      "Reading QR code...\n",
      "\n",
      "\u001b[1;31mCould NOT find QR code in the image!!!\u001b[0m\n",
      "\u001b[1;33mUsing OCR to read the QR code...\u001b[0m\n",
      "OCR Detected ['Amount Harvested: |0', 'Date:04/23/23', 'NI93 -120-/9', 'Harvest']\n",
      "\n",
      "QR code reading complete.\n",
      "\n"
     ]
    },
    {
     "name": "stderr",
     "output_type": "stream",
     "text": [
      "Extracting features: 100%|██████████| 10/10 [00:00<00:00, 26.99it/s]\n",
      "Extracting features: 0it [00:00, ?it/s]\n"
     ]
    },
    {
     "name": "stdout",
     "output_type": "stream",
     "text": [
      "\n",
      "Image 66 of 69 processed.\n",
      "\n",
      "0: 1856x2784 1 ColorCard, 9 berrys, 1 info, 281.6ms\n",
      "Speed: 24.1ms preprocess, 281.6ms inference, 89.5ms postprocess per image at shape (1, 3, 1856, 2784)\n",
      "\n",
      "Color correcting the image...\n",
      "\n",
      "Initial mean DeltaE:  8.35335943858\n",
      "Number of components:  10\n",
      "\n",
      "Color correction complete.\n",
      "\n",
      "\n",
      "Reading QR code...\n",
      "\n",
      "\n",
      "QR code reading complete.\n",
      "\n"
     ]
    },
    {
     "name": "stderr",
     "output_type": "stream",
     "text": [
      "Extracting features: 100%|██████████| 9/9 [00:00<00:00, 31.94it/s]\n",
      "Extracting features: 0it [00:00, ?it/s]\n"
     ]
    },
    {
     "name": "stdout",
     "output_type": "stream",
     "text": [
      "\n",
      "Image 67 of 69 processed.\n",
      "\n",
      "0: 1856x2784 1 ColorCard, 10 berrys, 1 info, 289.8ms\n",
      "Speed: 26.1ms preprocess, 289.8ms inference, 113.8ms postprocess per image at shape (1, 3, 1856, 2784)\n",
      "\n",
      "Color correcting the image...\n",
      "\n",
      "Initial mean DeltaE:  6.42402825964\n",
      "Number of components:  10\n",
      "\n",
      "Color correction complete.\n",
      "\n",
      "\n",
      "Reading QR code...\n",
      "\n",
      "\n",
      "QR code reading complete.\n",
      "\n"
     ]
    },
    {
     "name": "stderr",
     "output_type": "stream",
     "text": [
      "Extracting features: 100%|██████████| 10/10 [00:00<00:00, 33.22it/s]\n",
      "Extracting features: 0it [00:00, ?it/s]\n"
     ]
    },
    {
     "name": "stdout",
     "output_type": "stream",
     "text": [
      "\n",
      "Image 68 of 69 processed.\n",
      "\n",
      "0: 1856x2784 1 ColorCard, 10 berrys, 1 info, 306.8ms\n",
      "Speed: 23.1ms preprocess, 306.8ms inference, 104.8ms postprocess per image at shape (1, 3, 1856, 2784)\n",
      "\n",
      "Color correcting the image...\n",
      "\n",
      "Initial mean DeltaE:  7.59367534878\n",
      "Number of components:  10\n",
      "\n",
      "Color correction complete.\n",
      "\n",
      "\n",
      "Reading QR code...\n",
      "\n",
      "\n",
      "QR code reading complete.\n",
      "\n"
     ]
    },
    {
     "name": "stderr",
     "output_type": "stream",
     "text": [
      "Extracting features: 100%|██████████| 10/10 [00:00<00:00, 28.86it/s]\n",
      "Extracting features: 0it [00:00, ?it/s]\n"
     ]
    },
    {
     "name": "stdout",
     "output_type": "stream",
     "text": [
      "\n",
      "Image 69 of 69 processed.\n",
      "Done.\n"
     ]
    },
    {
     "data": {
      "text/plain": [
       "29"
      ]
     },
     "execution_count": 4,
     "metadata": {},
     "output_type": "execute_result"
    }
   ],
   "source": [
    "# Create an empty pandas data frame\n",
    "DF = pd.DataFrame()\n",
    "\n",
    "# List images in the image dir\n",
    "image_files = [x for x in os.listdir(image_dir) if \".JPG\" in x.upper() or \".PNG\" in x.upper()]\n",
    "\n",
    "# Print the number of images\n",
    "print('Running inference and extracting features for ' + str(len(image_files)) + \" images...\\n\")\n",
    "\n",
    "# Target model size\n",
    "newH, newW = model_params[\"imgsz\"]\n",
    "\n",
    "# Iterate over the image files\n",
    "for i, img_name in enumerate(image_files):\n",
    "    \n",
    "    # Read in the image and resize\n",
    "    image = Image.open(image_dir + \"/\" + img_name).resize((newW, newH))\n",
    "    \n",
    "    # Run through the model\n",
    "    results = model.predict(source = image, **model_params)\n",
    "    result = results[0]\n",
    "\n",
    "    # Process the results\n",
    "    # Try color correction; skip if it doesn't work\n",
    "    try:\n",
    "        result, patch_size = color_correction(result)\n",
    "    except:\n",
    "        continue\n",
    "    # Was \"info\" found?\n",
    "    if any(result.boxes.cls == get_ids(result, 'info')[0]):\n",
    "        QR_info = read_QR_code(result)\n",
    "    else:\n",
    "        print(\"No 'info' detected by the model.\\n\")\n",
    "        QR_info = img_name\n",
    "    # Get features\n",
    "    df1 = get_all_features_parallel(result, name= 'berry')\n",
    "    df2 = get_all_features_parallel(result, name= 'rotten')\n",
    "    df = pd.concat([pd.DataFrame({'name': (['berry'] * df1.shape[0]) + (['rotten'] * df2.shape[0])}), pd.concat([df1, df2], ignore_index = True)], axis = 1)    \n",
    "    w,_ = df.shape\n",
    "    img_name = [img_name]*w\n",
    "    QR_info = [QR_info]*w\n",
    "    patch_size = [np.mean(patch_size)]*w\n",
    "    indeces = list(range(w))\n",
    "    # If indeces is length 0; warn that no berries were found\n",
    "    if len(indeces) == 0:\n",
    "        print('\\033[1;33mNo berries were found in the image!\\033[0m')\n",
    "        continue\n",
    "\n",
    "    df_fore = pd.DataFrame({'Image_name': img_name,\n",
    "                            'ID': indeces,\n",
    "                            'QR_info': QR_info,\n",
    "                            'Patch_size': patch_size})\n",
    "\n",
    "    df = pd.concat([df_fore, df], axis=1)\n",
    "    DF = pd.concat([DF, df], axis=0, ignore_index=True)\n",
    "\n",
    "    img_save_folder = os.path.join(save_dir, 'predictions')\n",
    "    if not os.path.exists(img_save_folder):\n",
    "        os.makedirs(img_save_folder)\n",
    "\n",
    "    save_ROI_parallel(result, get_ids(result, 'berry'), os.path.join(img_save_folder, img_name[0]))\n",
    "\n",
    "    print(f\"\\nImage {i+1} of {len(image_files)} processed.\" )\n",
    "    \n",
    "    \n",
    "DF.to_csv(os.path.join(save_dir, 'features.csv'), index=False)\n",
    "print('Done.')\n",
    "\n",
    "gc.collect()    "
   ]
  },
  {
   "cell_type": "code",
   "execution_count": null,
   "metadata": {},
   "outputs": [],
   "source": []
  }
 ],
 "metadata": {
  "accelerator": "GPU",
  "colab": {
   "gpuType": "T4",
   "provenance": []
  },
  "kernelspec": {
   "display_name": "Python 3",
   "language": "python",
   "name": "python3"
  },
  "language_info": {
   "codemirror_mode": {
    "name": "ipython",
    "version": 3
   },
   "file_extension": ".py",
   "mimetype": "text/x-python",
   "name": "python",
   "nbconvert_exporter": "python",
   "pygments_lexer": "ipython3",
   "version": "3.9.19"
  }
 },
 "nbformat": 4,
 "nbformat_minor": 1
}
